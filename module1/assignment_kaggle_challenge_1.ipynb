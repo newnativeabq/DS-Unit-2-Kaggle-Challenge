{
 "cells": [
  {
   "cell_type": "markdown",
   "metadata": {
    "colab_type": "text",
    "id": "7IXUfiQ2UKj6"
   },
   "source": [
    "Lambda School Data Science, Unit 2: Predictive Modeling\n",
    "\n",
    "# Kaggle Challenge, Module 1\n",
    "\n",
    "## Assignment\n",
    "- [ ] Do train/validate/test split with the Tanzania Waterpumps data.\n",
    "- [ ] Define a function to wrangle train, validate, and test sets in the same way. Clean outliers and engineer features. (For example, [what other columns have zeros and shouldn't?](https://github.com/Quartz/bad-data-guide#zeros-replace-missing-values) What other columns are duplicates, or nearly duplicates? Can you extract the year from date_recorded? Can you engineer new features, such as the number of years from waterpump construction to waterpump inspection?)\n",
    "- [ ] Select features. Use a scikit-learn pipeline to encode categoricals, impute missing values, and fit a decision tree classifier.\n",
    "- [ ] Get your validation accuracy score.\n",
    "- [ ] Get and plot your feature importances.\n",
    "- [ ] Submit your predictions to our Kaggle competition. (Go to our Kaggle InClass competition webpage. Use the blue **Submit Predictions** button to upload your CSV file. Or you can use the Kaggle API to submit your predictions.)\n",
    "- [ ] Commit your notebook to your fork of the GitHub repo.\n",
    "\n",
    "\n",
    "## Stretch Goals\n",
    "\n",
    "### Reading\n",
    "\n",
    "- A Visual Introduction to Machine Learning\n",
    "  - [Part 1: A Decision Tree](http://www.r2d3.us/visual-intro-to-machine-learning-part-1/)\n",
    "  - [Part 2: Bias and Variance](http://www.r2d3.us/visual-intro-to-machine-learning-part-2/)\n",
    "- [Decision Trees: Advantages & Disadvantages](https://christophm.github.io/interpretable-ml-book/tree.html#advantages-2)\n",
    "- [How a Russian mathematician constructed a decision tree — by hand — to solve a medical problem](http://fastml.com/how-a-russian-mathematician-constructed-a-decision-tree-by-hand-to-solve-a-medical-problem/)\n",
    "- [How decision trees work](https://brohrer.github.io/how_decision_trees_work.html)\n",
    "- [Let’s Write a Decision Tree Classifier from Scratch](https://www.youtube.com/watch?v=LDRbO9a6XPU) — _Don’t worry about understanding the code, just get introduced to the concepts. This 10 minute video has excellent diagrams and explanations._\n",
    "- [Random Forests for Complete Beginners: The definitive guide to Random Forests and Decision Trees](https://victorzhou.com/blog/intro-to-random-forests/)\n",
    "\n",
    "\n",
    "### Doing\n",
    "- [ ] Add your own stretch goal(s) !\n",
    "- [ ] Try other [scikit-learn imputers](https://scikit-learn.org/stable/modules/impute.html).\n",
    "- [ ] Try other [scikit-learn scalers](https://scikit-learn.org/stable/modules/preprocessing.html).\n",
    "- [ ] Make exploratory visualizations and share on Slack.\n",
    "\n",
    "\n",
    "#### Exploratory visualizations\n",
    "\n",
    "Visualize the relationships between feature(s) and target. I recommend you do this with your training set, after splitting your data. \n",
    "\n",
    "For this problem, you may want to create a new column to represent the target as a number, 0 or 1. For example:\n",
    "\n",
    "```python\n",
    "train['functional'] = (train['status_group']=='functional').astype(int)\n",
    "```\n",
    "\n",
    "\n",
    "\n",
    "You can try [Seaborn \"Categorical estimate\" plots](https://seaborn.pydata.org/tutorial/categorical.html) for features with reasonably few unique values. (With too many unique values, the plot is unreadable.)\n",
    "\n",
    "- Categorical features. (If there are too many unique values, you can replace less frequent values with \"OTHER.\")\n",
    "- Numeric features. (If there are too many unique values, you can [bin with pandas cut / qcut functions](https://pandas.pydata.org/pandas-docs/stable/getting_started/basics.html?highlight=qcut#discretization-and-quantiling).)\n",
    "\n",
    "You can try [Seaborn linear model plots](https://seaborn.pydata.org/tutorial/regression.html) with numeric features. For this problem, you may want to use the parameter `logistic=True`\n",
    "\n",
    "You do _not_ need to use Seaborn, but it's nice because it includes confidence intervals to visualize uncertainty.\n",
    "\n",
    "#### High-cardinality categoricals\n",
    "\n",
    "This code from a previous assignment demonstrates how to replace less frequent values with 'OTHER'\n",
    "\n",
    "```python\n",
    "# Reduce cardinality for NEIGHBORHOOD feature ...\n",
    "\n",
    "# Get a list of the top 10 neighborhoods\n",
    "top10 = train['NEIGHBORHOOD'].value_counts()[:10].index\n",
    "\n",
    "# At locations where the neighborhood is NOT in the top 10,\n",
    "# replace the neighborhood with 'OTHER'\n",
    "train.loc[~train['NEIGHBORHOOD'].isin(top10), 'NEIGHBORHOOD'] = 'OTHER'\n",
    "test.loc[~test['NEIGHBORHOOD'].isin(top10), 'NEIGHBORHOOD'] = 'OTHER'\n",
    "```\n",
    "\n"
   ]
  },
  {
   "cell_type": "code",
   "execution_count": null,
   "metadata": {
    "colab": {},
    "colab_type": "code",
    "id": "o9eSnDYhUGD7"
   },
   "outputs": [],
   "source": [
    "'''\n",
    "# If you're in Colab...\n",
    "import os, sys\n",
    "in_colab = 'google.colab' in sys.modules\n",
    "\n",
    "if in_colab:\n",
    "    # Install required python packages:\n",
    "    # category_encoders, version >= 2.0\n",
    "    # pandas-profiling, version >= 2.0\n",
    "    # plotly, version >= 4.0\n",
    "    !pip install --upgrade category_encoders pandas-profiling plotly\n",
    "    \n",
    "    # Pull files from Github repo\n",
    "    os.chdir('/content')\n",
    "    !git init .\n",
    "    !git remote add origin https://github.com/LambdaSchool/DS-Unit-2-Kaggle-Challenge.git\n",
    "    !git pull origin master\n",
    "    \n",
    "    # Change into directory for module\n",
    "    os.chdir('module1')\n",
    "'''"
   ]
  },
  {
   "cell_type": "code",
   "execution_count": 1,
   "metadata": {
    "colab": {},
    "colab_type": "code",
    "id": "QJBD4ruICm1m"
   },
   "outputs": [
    {
     "data": {
      "text/plain": [
       "((59400, 41), (14358, 40))"
      ]
     },
     "execution_count": 1,
     "metadata": {},
     "output_type": "execute_result"
    }
   ],
   "source": [
    "import pandas as pd\n",
    "from sklearn.model_selection import train_test_split\n",
    "\n",
    "train = pd.merge(pd.read_csv('../data/tanzania/train_features.csv'), \n",
    "                 pd.read_csv('../data/tanzania/train_labels.csv'))\n",
    "test = pd.read_csv('../data/tanzania/test_features.csv')\n",
    "sample_submission = pd.read_csv('../data/tanzania/sample_submission.csv')\n",
    "\n",
    "train.shape, test.shape"
   ]
  },
  {
   "cell_type": "code",
   "execution_count": 2,
   "metadata": {
    "colab": {},
    "colab_type": "code",
    "id": "2Amxyx3xphbb"
   },
   "outputs": [],
   "source": [
    "# Assign targets for investigation\n",
    "target = 'status_group'"
   ]
  },
  {
   "cell_type": "code",
   "execution_count": 3,
   "metadata": {},
   "outputs": [
    {
     "data": {
      "text/plain": [
       "Index(['id', 'amount_tsh', 'date_recorded', 'funder', 'gps_height',\n",
       "       'installer', 'longitude', 'latitude', 'wpt_name', 'num_private',\n",
       "       'basin', 'subvillage', 'region', 'region_code', 'district_code', 'lga',\n",
       "       'ward', 'population', 'public_meeting', 'recorded_by',\n",
       "       'scheme_management', 'scheme_name', 'permit', 'construction_year',\n",
       "       'extraction_type', 'extraction_type_group', 'extraction_type_class',\n",
       "       'management', 'management_group', 'payment', 'payment_type',\n",
       "       'water_quality', 'quality_group', 'quantity', 'quantity_group',\n",
       "       'source', 'source_type', 'source_class', 'waterpoint_type',\n",
       "       'waterpoint_type_group', 'status_group'],\n",
       "      dtype='object')"
      ]
     },
     "execution_count": 3,
     "metadata": {},
     "output_type": "execute_result"
    }
   ],
   "source": [
    "train.columns"
   ]
  },
  {
   "cell_type": "markdown",
   "metadata": {},
   "source": [
    "**Extraction Features Overview**"
   ]
  },
  {
   "cell_type": "code",
   "execution_count": 4,
   "metadata": {},
   "outputs": [
    {
     "data": {
      "text/html": [
       "<div>\n",
       "<style scoped>\n",
       "    .dataframe tbody tr th:only-of-type {\n",
       "        vertical-align: middle;\n",
       "    }\n",
       "\n",
       "    .dataframe tbody tr th {\n",
       "        vertical-align: top;\n",
       "    }\n",
       "\n",
       "    .dataframe thead th {\n",
       "        text-align: right;\n",
       "    }\n",
       "</style>\n",
       "<table border=\"1\" class=\"dataframe\">\n",
       "  <thead>\n",
       "    <tr style=\"text-align: right;\">\n",
       "      <th></th>\n",
       "      <th>extraction_type</th>\n",
       "      <th>extraction_type_group</th>\n",
       "      <th>extraction_type_class</th>\n",
       "    </tr>\n",
       "  </thead>\n",
       "  <tbody>\n",
       "    <tr>\n",
       "      <th>0</th>\n",
       "      <td>gravity</td>\n",
       "      <td>gravity</td>\n",
       "      <td>gravity</td>\n",
       "    </tr>\n",
       "    <tr>\n",
       "      <th>1</th>\n",
       "      <td>gravity</td>\n",
       "      <td>gravity</td>\n",
       "      <td>gravity</td>\n",
       "    </tr>\n",
       "  </tbody>\n",
       "</table>\n",
       "</div>"
      ],
      "text/plain": [
       "  extraction_type extraction_type_group extraction_type_class\n",
       "0         gravity               gravity               gravity\n",
       "1         gravity               gravity               gravity"
      ]
     },
     "execution_count": 4,
     "metadata": {},
     "output_type": "execute_result"
    }
   ],
   "source": [
    "# Closer look at extraction features\n",
    "extraction_information = ['extraction_type', 'extraction_type_group', 'extraction_type_class']\n",
    "train[extraction_information].head(2)"
   ]
  },
  {
   "cell_type": "code",
   "execution_count": 5,
   "metadata": {},
   "outputs": [
    {
     "data": {
      "text/plain": [
       "extraction_type          0\n",
       "extraction_type_group    0\n",
       "extraction_type_class    0\n",
       "dtype: int64"
      ]
     },
     "metadata": {},
     "output_type": "display_data"
    },
    {
     "data": {
      "text/html": [
       "<div>\n",
       "<style scoped>\n",
       "    .dataframe tbody tr th:only-of-type {\n",
       "        vertical-align: middle;\n",
       "    }\n",
       "\n",
       "    .dataframe tbody tr th {\n",
       "        vertical-align: top;\n",
       "    }\n",
       "\n",
       "    .dataframe thead th {\n",
       "        text-align: right;\n",
       "    }\n",
       "</style>\n",
       "<table border=\"1\" class=\"dataframe\">\n",
       "  <thead>\n",
       "    <tr style=\"text-align: right;\">\n",
       "      <th></th>\n",
       "      <th>extraction_type</th>\n",
       "      <th>extraction_type_group</th>\n",
       "      <th>extraction_type_class</th>\n",
       "    </tr>\n",
       "  </thead>\n",
       "  <tbody>\n",
       "    <tr>\n",
       "      <th>count</th>\n",
       "      <td>59400</td>\n",
       "      <td>59400</td>\n",
       "      <td>59400</td>\n",
       "    </tr>\n",
       "    <tr>\n",
       "      <th>unique</th>\n",
       "      <td>18</td>\n",
       "      <td>13</td>\n",
       "      <td>7</td>\n",
       "    </tr>\n",
       "    <tr>\n",
       "      <th>top</th>\n",
       "      <td>gravity</td>\n",
       "      <td>gravity</td>\n",
       "      <td>gravity</td>\n",
       "    </tr>\n",
       "    <tr>\n",
       "      <th>freq</th>\n",
       "      <td>26780</td>\n",
       "      <td>26780</td>\n",
       "      <td>26780</td>\n",
       "    </tr>\n",
       "  </tbody>\n",
       "</table>\n",
       "</div>"
      ],
      "text/plain": [
       "       extraction_type extraction_type_group extraction_type_class\n",
       "count            59400                 59400                 59400\n",
       "unique              18                    13                     7\n",
       "top            gravity               gravity               gravity\n",
       "freq             26780                 26780                 26780"
      ]
     },
     "metadata": {},
     "output_type": "display_data"
    }
   ],
   "source": [
    "# It seems like two of the three can be dropped.  Check for most information via isnull().\n",
    "# Investigate unique values in each\n",
    "from IPython.display import display\n",
    "\n",
    "display(train[extraction_information].isnull().sum(), train[extraction_information].describe())"
   ]
  },
  {
   "cell_type": "code",
   "execution_count": 6,
   "metadata": {},
   "outputs": [
    {
     "name": "stdout",
     "output_type": "stream",
     "text": [
      "For col extraction_type\n"
     ]
    },
    {
     "data": {
      "text/plain": [
       "array(['gravity', 'submersible', 'swn 80', 'nira/tanira', 'india mark ii',\n",
       "       'other', 'ksb', 'mono', 'windmill', 'afridev', 'other - rope pump',\n",
       "       'india mark iii', 'other - swn 81', 'other - play pump', 'cemo',\n",
       "       'climax', 'walimi', 'other - mkulima/shinyanga'], dtype=object)"
      ]
     },
     "metadata": {},
     "output_type": "display_data"
    },
    {
     "name": "stdout",
     "output_type": "stream",
     "text": [
      "For col extraction_type_group\n"
     ]
    },
    {
     "data": {
      "text/plain": [
       "array(['gravity', 'submersible', 'swn 80', 'nira/tanira', 'india mark ii',\n",
       "       'other', 'mono', 'wind-powered', 'afridev', 'rope pump',\n",
       "       'india mark iii', 'other handpump', 'other motorpump'],\n",
       "      dtype=object)"
      ]
     },
     "metadata": {},
     "output_type": "display_data"
    },
    {
     "name": "stdout",
     "output_type": "stream",
     "text": [
      "For col extraction_type_class\n"
     ]
    },
    {
     "data": {
      "text/plain": [
       "array(['gravity', 'submersible', 'handpump', 'other', 'motorpump',\n",
       "       'wind-powered', 'rope pump'], dtype=object)"
      ]
     },
     "metadata": {},
     "output_type": "display_data"
    }
   ],
   "source": [
    "# View unique elements in each extraction feature to see which to keep\n",
    "for col in extraction_information:\n",
    "    print('For col', col)\n",
    "    display(train[col].unique())"
   ]
  },
  {
   "cell_type": "code",
   "execution_count": 7,
   "metadata": {},
   "outputs": [
    {
     "data": {
      "text/html": [
       "<div>\n",
       "<style scoped>\n",
       "    .dataframe tbody tr th:only-of-type {\n",
       "        vertical-align: middle;\n",
       "    }\n",
       "\n",
       "    .dataframe tbody tr th {\n",
       "        vertical-align: top;\n",
       "    }\n",
       "\n",
       "    .dataframe thead th {\n",
       "        text-align: right;\n",
       "    }\n",
       "</style>\n",
       "<table border=\"1\" class=\"dataframe\">\n",
       "  <thead>\n",
       "    <tr style=\"text-align: right;\">\n",
       "      <th>status_group</th>\n",
       "      <th>functional</th>\n",
       "      <th>functional needs repair</th>\n",
       "      <th>non functional</th>\n",
       "    </tr>\n",
       "    <tr>\n",
       "      <th>extraction_type_group</th>\n",
       "      <th></th>\n",
       "      <th></th>\n",
       "      <th></th>\n",
       "    </tr>\n",
       "  </thead>\n",
       "  <tbody>\n",
       "    <tr>\n",
       "      <th>afridev</th>\n",
       "      <td>0.677966</td>\n",
       "      <td>0.023729</td>\n",
       "      <td>0.298305</td>\n",
       "    </tr>\n",
       "    <tr>\n",
       "      <th>gravity</th>\n",
       "      <td>0.599253</td>\n",
       "      <td>0.100859</td>\n",
       "      <td>0.299888</td>\n",
       "    </tr>\n",
       "    <tr>\n",
       "      <th>india mark ii</th>\n",
       "      <td>0.603333</td>\n",
       "      <td>0.032917</td>\n",
       "      <td>0.363750</td>\n",
       "    </tr>\n",
       "    <tr>\n",
       "      <th>india mark iii</th>\n",
       "      <td>0.448980</td>\n",
       "      <td>0.010204</td>\n",
       "      <td>0.540816</td>\n",
       "    </tr>\n",
       "    <tr>\n",
       "      <th>mono</th>\n",
       "      <td>0.377661</td>\n",
       "      <td>0.045026</td>\n",
       "      <td>0.577312</td>\n",
       "    </tr>\n",
       "    <tr>\n",
       "      <th>nira/tanira</th>\n",
       "      <td>0.664827</td>\n",
       "      <td>0.078612</td>\n",
       "      <td>0.256561</td>\n",
       "    </tr>\n",
       "    <tr>\n",
       "      <th>other</th>\n",
       "      <td>0.160031</td>\n",
       "      <td>0.032037</td>\n",
       "      <td>0.807932</td>\n",
       "    </tr>\n",
       "    <tr>\n",
       "      <th>other handpump</th>\n",
       "      <td>0.472527</td>\n",
       "      <td>0.054945</td>\n",
       "      <td>0.472527</td>\n",
       "    </tr>\n",
       "    <tr>\n",
       "      <th>other motorpump</th>\n",
       "      <td>0.434426</td>\n",
       "      <td>0.073770</td>\n",
       "      <td>0.491803</td>\n",
       "    </tr>\n",
       "    <tr>\n",
       "      <th>rope pump</th>\n",
       "      <td>0.649667</td>\n",
       "      <td>0.037694</td>\n",
       "      <td>0.312639</td>\n",
       "    </tr>\n",
       "    <tr>\n",
       "      <th>submersible</th>\n",
       "      <td>0.538760</td>\n",
       "      <td>0.040945</td>\n",
       "      <td>0.420295</td>\n",
       "    </tr>\n",
       "    <tr>\n",
       "      <th>swn 80</th>\n",
       "      <td>0.569482</td>\n",
       "      <td>0.057766</td>\n",
       "      <td>0.372752</td>\n",
       "    </tr>\n",
       "    <tr>\n",
       "      <th>wind-powered</th>\n",
       "      <td>0.427350</td>\n",
       "      <td>0.059829</td>\n",
       "      <td>0.512821</td>\n",
       "    </tr>\n",
       "  </tbody>\n",
       "</table>\n",
       "</div>"
      ],
      "text/plain": [
       "status_group           functional  functional needs repair  non functional\n",
       "extraction_type_group                                                     \n",
       "afridev                  0.677966                 0.023729        0.298305\n",
       "gravity                  0.599253                 0.100859        0.299888\n",
       "india mark ii            0.603333                 0.032917        0.363750\n",
       "india mark iii           0.448980                 0.010204        0.540816\n",
       "mono                     0.377661                 0.045026        0.577312\n",
       "nira/tanira              0.664827                 0.078612        0.256561\n",
       "other                    0.160031                 0.032037        0.807932\n",
       "other handpump           0.472527                 0.054945        0.472527\n",
       "other motorpump          0.434426                 0.073770        0.491803\n",
       "rope pump                0.649667                 0.037694        0.312639\n",
       "submersible              0.538760                 0.040945        0.420295\n",
       "swn 80                   0.569482                 0.057766        0.372752\n",
       "wind-powered             0.427350                 0.059829        0.512821"
      ]
     },
     "execution_count": 7,
     "metadata": {},
     "output_type": "execute_result"
    }
   ],
   "source": [
    "# Visualize extraction_type_group vs target\n",
    "import matplotlib.pyplot as plt\n",
    "import seaborn as sns\n",
    "\n",
    "view = ['extraction_type_group'] + [target]\n",
    "info_tab = pd.crosstab(train[view].extraction_type_group, train[view].status_group, normalize='index')\n",
    "info_tab"
   ]
  },
  {
   "cell_type": "code",
   "execution_count": 8,
   "metadata": {},
   "outputs": [
    {
     "data": {
      "text/plain": [
       "<matplotlib.axes._subplots.AxesSubplot at 0x12cb5959898>"
      ]
     },
     "execution_count": 8,
     "metadata": {},
     "output_type": "execute_result"
    },
    {
     "data": {
      "image/png": "[encoded data removed]",
      "text/plain": [
       "<Figure size 432x288 with 1 Axes>"
      ]
     },
     "metadata": {
      "needs_background": "light"
     },
     "output_type": "display_data"
    }
   ],
   "source": [
    "info_tab.plot(kind='area', stacked=True)"
   ]
  },
  {
   "cell_type": "markdown",
   "metadata": {},
   "source": [
    "**Looking at latitude, longitude, and gps_height**"
   ]
  },
  {
   "cell_type": "code",
   "execution_count": 9,
   "metadata": {},
   "outputs": [
    {
     "data": {
      "text/html": [
       "<div>\n",
       "<style scoped>\n",
       "    .dataframe tbody tr th:only-of-type {\n",
       "        vertical-align: middle;\n",
       "    }\n",
       "\n",
       "    .dataframe tbody tr th {\n",
       "        vertical-align: top;\n",
       "    }\n",
       "\n",
       "    .dataframe thead th {\n",
       "        text-align: right;\n",
       "    }\n",
       "</style>\n",
       "<table border=\"1\" class=\"dataframe\">\n",
       "  <thead>\n",
       "    <tr style=\"text-align: right;\">\n",
       "      <th></th>\n",
       "      <th>latitude</th>\n",
       "      <th>longitude</th>\n",
       "      <th>gps_height</th>\n",
       "    </tr>\n",
       "  </thead>\n",
       "  <tbody>\n",
       "    <tr>\n",
       "      <th>0</th>\n",
       "      <td>-9.856322</td>\n",
       "      <td>34.938093</td>\n",
       "      <td>1390</td>\n",
       "    </tr>\n",
       "    <tr>\n",
       "      <th>1</th>\n",
       "      <td>-2.147466</td>\n",
       "      <td>34.698766</td>\n",
       "      <td>1399</td>\n",
       "    </tr>\n",
       "  </tbody>\n",
       "</table>\n",
       "</div>"
      ],
      "text/plain": [
       "   latitude  longitude  gps_height\n",
       "0 -9.856322  34.938093        1390\n",
       "1 -2.147466  34.698766        1399"
      ]
     },
     "execution_count": 9,
     "metadata": {},
     "output_type": "execute_result"
    }
   ],
   "source": [
    "position_information = ['latitude', 'longitude', 'gps_height']\n",
    "train[position_information].head(2)"
   ]
  },
  {
   "cell_type": "code",
   "execution_count": 10,
   "metadata": {},
   "outputs": [
    {
     "data": {
      "text/html": [
       "<div>\n",
       "<style scoped>\n",
       "    .dataframe tbody tr th:only-of-type {\n",
       "        vertical-align: middle;\n",
       "    }\n",
       "\n",
       "    .dataframe tbody tr th {\n",
       "        vertical-align: top;\n",
       "    }\n",
       "\n",
       "    .dataframe thead th {\n",
       "        text-align: right;\n",
       "    }\n",
       "</style>\n",
       "<table border=\"1\" class=\"dataframe\">\n",
       "  <thead>\n",
       "    <tr style=\"text-align: right;\">\n",
       "      <th></th>\n",
       "      <th>latitude</th>\n",
       "      <th>longitude</th>\n",
       "      <th>gps_height</th>\n",
       "    </tr>\n",
       "  </thead>\n",
       "  <tbody>\n",
       "    <tr>\n",
       "      <th>count</th>\n",
       "      <td>5.940000e+04</td>\n",
       "      <td>59400.000000</td>\n",
       "      <td>59400.000000</td>\n",
       "    </tr>\n",
       "    <tr>\n",
       "      <th>mean</th>\n",
       "      <td>-5.706033e+00</td>\n",
       "      <td>34.077427</td>\n",
       "      <td>668.297239</td>\n",
       "    </tr>\n",
       "    <tr>\n",
       "      <th>std</th>\n",
       "      <td>2.946019e+00</td>\n",
       "      <td>6.567432</td>\n",
       "      <td>693.116350</td>\n",
       "    </tr>\n",
       "    <tr>\n",
       "      <th>min</th>\n",
       "      <td>-1.164944e+01</td>\n",
       "      <td>0.000000</td>\n",
       "      <td>-90.000000</td>\n",
       "    </tr>\n",
       "    <tr>\n",
       "      <th>25%</th>\n",
       "      <td>-8.540621e+00</td>\n",
       "      <td>33.090347</td>\n",
       "      <td>0.000000</td>\n",
       "    </tr>\n",
       "    <tr>\n",
       "      <th>50%</th>\n",
       "      <td>-5.021597e+00</td>\n",
       "      <td>34.908743</td>\n",
       "      <td>369.000000</td>\n",
       "    </tr>\n",
       "    <tr>\n",
       "      <th>75%</th>\n",
       "      <td>-3.326156e+00</td>\n",
       "      <td>37.178387</td>\n",
       "      <td>1319.250000</td>\n",
       "    </tr>\n",
       "    <tr>\n",
       "      <th>max</th>\n",
       "      <td>-2.000000e-08</td>\n",
       "      <td>40.345193</td>\n",
       "      <td>2770.000000</td>\n",
       "    </tr>\n",
       "  </tbody>\n",
       "</table>\n",
       "</div>"
      ],
      "text/plain": [
       "           latitude     longitude    gps_height\n",
       "count  5.940000e+04  59400.000000  59400.000000\n",
       "mean  -5.706033e+00     34.077427    668.297239\n",
       "std    2.946019e+00      6.567432    693.116350\n",
       "min   -1.164944e+01      0.000000    -90.000000\n",
       "25%   -8.540621e+00     33.090347      0.000000\n",
       "50%   -5.021597e+00     34.908743    369.000000\n",
       "75%   -3.326156e+00     37.178387   1319.250000\n",
       "max   -2.000000e-08     40.345193   2770.000000"
      ]
     },
     "execution_count": 10,
     "metadata": {},
     "output_type": "execute_result"
    }
   ],
   "source": [
    "train[position_information].describe()"
   ]
  },
  {
   "cell_type": "code",
   "execution_count": 11,
   "metadata": {},
   "outputs": [
    {
     "data": {
      "text/html": [
       "<div>\n",
       "<style scoped>\n",
       "    .dataframe tbody tr th:only-of-type {\n",
       "        vertical-align: middle;\n",
       "    }\n",
       "\n",
       "    .dataframe tbody tr th {\n",
       "        vertical-align: top;\n",
       "    }\n",
       "\n",
       "    .dataframe thead th {\n",
       "        text-align: right;\n",
       "    }\n",
       "</style>\n",
       "<table border=\"1\" class=\"dataframe\">\n",
       "  <thead>\n",
       "    <tr style=\"text-align: right;\">\n",
       "      <th></th>\n",
       "      <th>latitude</th>\n",
       "      <th>longitude</th>\n",
       "      <th>gps_height</th>\n",
       "    </tr>\n",
       "  </thead>\n",
       "  <tbody>\n",
       "    <tr>\n",
       "      <th>21</th>\n",
       "      <td>-2.000000e-08</td>\n",
       "      <td>0.0</td>\n",
       "      <td>0</td>\n",
       "    </tr>\n",
       "    <tr>\n",
       "      <th>53</th>\n",
       "      <td>-2.000000e-08</td>\n",
       "      <td>0.0</td>\n",
       "      <td>0</td>\n",
       "    </tr>\n",
       "  </tbody>\n",
       "</table>\n",
       "</div>"
      ],
      "text/plain": [
       "        latitude  longitude  gps_height\n",
       "21 -2.000000e-08        0.0           0\n",
       "53 -2.000000e-08        0.0           0"
      ]
     },
     "metadata": {},
     "output_type": "display_data"
    },
    {
     "data": {
      "text/plain": [
       "latitude      1812\n",
       "longitude     1812\n",
       "gps_height    1812\n",
       "dtype: int64"
      ]
     },
     "metadata": {},
     "output_type": "display_data"
    },
    {
     "data": {
      "text/plain": [
       "latitude      1812\n",
       "longitude     1812\n",
       "gps_height    1812\n",
       "dtype: int64"
      ]
     },
     "metadata": {},
     "output_type": "display_data"
    },
    {
     "data": {
      "text/plain": [
       "latitude      20438\n",
       "longitude     20438\n",
       "gps_height    20438\n",
       "dtype: int64"
      ]
     },
     "metadata": {},
     "output_type": "display_data"
    }
   ],
   "source": [
    "# It looks like zero (0) longitude is a nonsense or missing value placeholder.  \n",
    "display(\n",
    "    train[position_information][train.longitude == 0].head(2),\n",
    "    train[position_information][train.longitude == 0].count(),\n",
    "    train[position_information][train.latitude == -2.000000e-08].count(),\n",
    "    train[position_information][train.gps_height == 0].count()\n",
    ")"
   ]
  },
  {
   "cell_type": "markdown",
   "metadata": {},
   "source": [
    "**latitude and longitude have a significant number of missing values.  They will need to be captured and converted to NaN, then imputed or removed prior modeling**"
   ]
  },
  {
   "cell_type": "code",
   "execution_count": 12,
   "metadata": {},
   "outputs": [
    {
     "data": {
      "text/plain": [
       "<matplotlib.axes._subplots.AxesSubplot at 0x12cb5097ba8>"
      ]
     },
     "execution_count": 12,
     "metadata": {},
     "output_type": "execute_result"
    },
    {
     "data": {
      "image/png": "[encoded data removed]",
      "text/plain": [
       "<Figure size 432x288 with 1 Axes>"
      ]
     },
     "metadata": {
      "needs_background": "light"
     },
     "output_type": "display_data"
    }
   ],
   "source": [
    "view = position_information + ['status_group']\n",
    "view_select = (train[view].longitude != 0)\n",
    "sns.scatterplot(x='latitude', y='longitude', hue='status_group', alpha=0.05,\n",
    "                data=train[view_select])"
   ]
  },
  {
   "cell_type": "markdown",
   "metadata": {},
   "source": [
    "**latitude/longitude do seem to have a significant impact. If clustering yields distinct areas that overlap above, we can replace the two coordinates with a cluster location.  I like this approach as the missing data will probably end up being a cluster of their own**\n"
   ]
  },
  {
   "cell_type": "code",
   "execution_count": 13,
   "metadata": {},
   "outputs": [
    {
     "data": {
      "text/plain": [
       "<matplotlib.axes._subplots.AxesSubplot at 0x12cb7498cc0>"
      ]
     },
     "execution_count": 13,
     "metadata": {},
     "output_type": "execute_result"
    },
    {
     "data": {
      "image/png": "[encoded data removed]",
      "text/plain": [
       "<Figure size 432x288 with 1 Axes>"
      ]
     },
     "metadata": {
      "needs_background": "light"
     },
     "output_type": "display_data"
    }
   ],
   "source": [
    "# Check if adding gps gives useful information\n",
    "sns.scatterplot(x='gps_height', y='longitude', hue='status_group', alpha=0.1,\n",
    "                data=train[view_select])"
   ]
  },
  {
   "cell_type": "markdown",
   "metadata": {},
   "source": [
    "**It looks like gps is another good indicator. Consider clustering as well. Condensing the three spacial coordinates into defined clusters may also improve training speed for parameter evaluation downstream**"
   ]
  },
  {
   "cell_type": "code",
   "execution_count": 14,
   "metadata": {},
   "outputs": [
    {
     "data": {
      "image/png": "[encoded data removed]",
      "text/plain": [
       "<Figure size 432x288 with 1 Axes>"
      ]
     },
     "metadata": {
      "needs_background": "light"
     },
     "output_type": "display_data"
    }
   ],
   "source": [
    "# k means clustering of 3-dimensional position:  determine k via elbow method\n",
    "from sklearn.cluster import KMeans\n",
    "from scipy.spatial.distance import cdist\n",
    "import numpy as np\n",
    "\n",
    "X = train[view].drop(columns='status_group').to_numpy()\n",
    "\n",
    "distortions = []\n",
    "K = range(1,10)\n",
    "for k in K:\n",
    "    kmeanModel = KMeans(n_clusters=k).fit(X)\n",
    "    kmeanModel.fit(X)\n",
    "    distortions.append(sum(np.min(cdist(X, kmeanModel.cluster_centers_, 'euclidean'), axis=1)) / X.shape[0])\n",
    "\n",
    "# Plot the elbow\n",
    "plt.plot(K, distortions, 'bx-')\n",
    "plt.xlabel('k')\n",
    "plt.ylabel('Distortion')\n",
    "plt.title('The Elbow Method showing the optimal k')\n",
    "plt.show()"
   ]
  },
  {
   "cell_type": "markdown",
   "metadata": {},
   "source": [
    "**At 4 clusters, we are nearing minimal improvement in distortion.  Will use 5 clusters to help improve granularity**\n",
    "**We'll now build the position_transformer class to handle this transform**\n",
    "\n",
    "Position Transform will:\n",
    "* Fit KMeans clustering model with n_clusters=5\n",
    "* Generate pos_cluster feature and return transformed dataframe (transform method) "
   ]
  },
  {
   "cell_type": "code",
   "execution_count": 191,
   "metadata": {},
   "outputs": [],
   "source": [
    "class PositionTransform():\n",
    "    def __init__(self, k=5, view=['longitude', 'latitude', 'gps_height']):\n",
    "        self.k = k\n",
    "        self.view=view\n",
    "        from sklearn.cluster import KMeans\n",
    "        self.kmeans = KMeans(n_clusters=k)\n",
    "\n",
    "    def fit(self, X):\n",
    "        self.kmeans.fit(X[self.view].to_numpy())\n",
    "    \n",
    "    def transform(self, X):\n",
    "        Xcopy = X.copy()\n",
    "        Xcopy['pos_cluster'] = self.kmeans.predict(X[self.view].to_numpy())\n",
    "        Xcopy = Xcopy.drop(columns=self.view)\n",
    "        return Xcopy"
   ]
  },
  {
   "cell_type": "code",
   "execution_count": 192,
   "metadata": {},
   "outputs": [
    {
     "data": {
      "text/plain": [
       "36896    7\n",
       "9397     0\n",
       "47063    1\n",
       "34840    5\n",
       "2602     1\n",
       "Name: pos_cluster, dtype: int32"
      ]
     },
     "metadata": {},
     "output_type": "display_data"
    }
   ],
   "source": [
    "pos_tf = PositionTransform(k=10)\n",
    "sample = train[view].sample(100)\n",
    "pos_tf.fit(sample)\n",
    "display(pos_tf.transform(sample).pos_cluster.head())"
   ]
  },
  {
   "cell_type": "code",
   "execution_count": 193,
   "metadata": {},
   "outputs": [
    {
     "data": {
      "text/plain": [
       "0    41\n",
       "1    43\n",
       "2    43\n",
       "3    43\n",
       "4    41\n",
       "dtype: int64"
      ]
     },
     "execution_count": 193,
     "metadata": {},
     "output_type": "execute_result"
    }
   ],
   "source": [
    "# Taking a look at date_recorded - it may be an inspection date.\n",
    "since_last_insepction = pd.to_datetime(train.date_recorded).dt.year - pd.to_datetime(train.construction_year).dt.year\n",
    "since_last_insepction.head(5)"
   ]
  },
  {
   "cell_type": "code",
   "execution_count": 94,
   "metadata": {},
   "outputs": [
    {
     "data": {
      "text/html": [
       "<div>\n",
       "<style scoped>\n",
       "    .dataframe tbody tr th:only-of-type {\n",
       "        vertical-align: middle;\n",
       "    }\n",
       "\n",
       "    .dataframe tbody tr th {\n",
       "        vertical-align: top;\n",
       "    }\n",
       "\n",
       "    .dataframe thead th {\n",
       "        text-align: right;\n",
       "    }\n",
       "</style>\n",
       "<table border=\"1\" class=\"dataframe\">\n",
       "  <thead>\n",
       "    <tr style=\"text-align: right;\">\n",
       "      <th></th>\n",
       "      <th>years_since_inspection</th>\n",
       "    </tr>\n",
       "    <tr>\n",
       "      <th>status_group</th>\n",
       "      <th></th>\n",
       "    </tr>\n",
       "  </thead>\n",
       "  <tbody>\n",
       "    <tr>\n",
       "      <th>functional</th>\n",
       "      <td>41.874545</td>\n",
       "    </tr>\n",
       "    <tr>\n",
       "      <th>functional needs repair</th>\n",
       "      <td>42.216216</td>\n",
       "    </tr>\n",
       "    <tr>\n",
       "      <th>non functional</th>\n",
       "      <td>41.896277</td>\n",
       "    </tr>\n",
       "  </tbody>\n",
       "</table>\n",
       "</div>"
      ],
      "text/plain": [
       "                         years_since_inspection\n",
       "status_group                                   \n",
       "functional                            41.874545\n",
       "functional needs repair               42.216216\n",
       "non functional                        41.896277"
      ]
     },
     "execution_count": 94,
     "metadata": {},
     "output_type": "execute_result"
    }
   ],
   "source": [
    "def feature_since_last(X, columns=['date_recorded', 'construction_year']):\n",
    "    def transform():\n",
    "        Xcopy = X.copy()\n",
    "        Xcopy['years_since_inspection'] = since_last_insepction = pd.to_datetime(X.date_recorded).dt.year\\\n",
    "                                - pd.to_datetime(X.construction_year).dt.year\n",
    "        return Xcopy\n",
    "    return transform()\n",
    "\n",
    "df_const = feature_since_last(train[['date_recorded', 'construction_year', 'status_group']].sample(1000))\n",
    "df_const[['years_since_inspection', 'status_group']].groupby('status_group').mean()"
   ]
  },
  {
   "cell_type": "markdown",
   "metadata": {},
   "source": [
    "**This feature doesn't seem to be yielding a useful relationship to take advantage of.  What about relative age?**"
   ]
  },
  {
   "cell_type": "code",
   "execution_count": 95,
   "metadata": {},
   "outputs": [
    {
     "data": {
      "text/html": [
       "<div>\n",
       "<style scoped>\n",
       "    .dataframe tbody tr th:only-of-type {\n",
       "        vertical-align: middle;\n",
       "    }\n",
       "\n",
       "    .dataframe tbody tr th {\n",
       "        vertical-align: top;\n",
       "    }\n",
       "\n",
       "    .dataframe thead th {\n",
       "        text-align: right;\n",
       "    }\n",
       "</style>\n",
       "<table border=\"1\" class=\"dataframe\">\n",
       "  <thead>\n",
       "    <tr style=\"text-align: right;\">\n",
       "      <th></th>\n",
       "      <th>rel_age</th>\n",
       "    </tr>\n",
       "    <tr>\n",
       "      <th>status_group</th>\n",
       "      <th></th>\n",
       "    </tr>\n",
       "  </thead>\n",
       "  <tbody>\n",
       "    <tr>\n",
       "      <th>functional</th>\n",
       "      <td>12.736702</td>\n",
       "    </tr>\n",
       "    <tr>\n",
       "      <th>functional needs repair</th>\n",
       "      <td>15.019608</td>\n",
       "    </tr>\n",
       "    <tr>\n",
       "      <th>non functional</th>\n",
       "      <td>19.456621</td>\n",
       "    </tr>\n",
       "  </tbody>\n",
       "</table>\n",
       "</div>"
      ],
      "text/plain": [
       "                           rel_age\n",
       "status_group                      \n",
       "functional               12.736702\n",
       "functional needs repair  15.019608\n",
       "non functional           19.456621"
      ]
     },
     "execution_count": 95,
     "metadata": {},
     "output_type": "execute_result"
    }
   ],
   "source": [
    "def feature_rel_age(X=None):\n",
    "    def transform():\n",
    "        Xcopy = X.copy()\n",
    "        most_recent_year = Xcopy.construction_year.max()\n",
    "        def col_func(x):\n",
    "            if x == 0:\n",
    "                return np.nan\n",
    "            else:\n",
    "                return abs(x - most_recent_year)\n",
    "        Xcopy['rel_age'] = Xcopy['construction_year'].apply(col_func)\n",
    "        return Xcopy\n",
    "    return transform()\n",
    "\n",
    "df_relage = feature_rel_age(train[['construction_year', 'status_group']].sample(1000))\n",
    "df_relage[['rel_age', 'status_group']].groupby('status_group').mean()"
   ]
  },
  {
   "cell_type": "markdown",
   "metadata": {},
   "source": [
    "**This looks significant.  We'll build this into the transform pipeline**"
   ]
  },
  {
   "cell_type": "code",
   "execution_count": 96,
   "metadata": {},
   "outputs": [
    {
     "data": {
      "text/html": [
       "<div>\n",
       "<style scoped>\n",
       "    .dataframe tbody tr th:only-of-type {\n",
       "        vertical-align: middle;\n",
       "    }\n",
       "\n",
       "    .dataframe tbody tr th {\n",
       "        vertical-align: top;\n",
       "    }\n",
       "\n",
       "    .dataframe thead th {\n",
       "        text-align: right;\n",
       "    }\n",
       "</style>\n",
       "<table border=\"1\" class=\"dataframe\">\n",
       "  <thead>\n",
       "    <tr style=\"text-align: right;\">\n",
       "      <th>status_group</th>\n",
       "      <th>functional</th>\n",
       "      <th>functional needs repair</th>\n",
       "      <th>non functional</th>\n",
       "    </tr>\n",
       "    <tr>\n",
       "      <th>installer</th>\n",
       "      <th></th>\n",
       "      <th></th>\n",
       "      <th></th>\n",
       "    </tr>\n",
       "  </thead>\n",
       "  <tbody>\n",
       "    <tr>\n",
       "      <th>DWE</th>\n",
       "      <td>0.542064</td>\n",
       "      <td>0.093208</td>\n",
       "      <td>0.364728</td>\n",
       "    </tr>\n",
       "    <tr>\n",
       "      <th>Government</th>\n",
       "      <td>0.293151</td>\n",
       "      <td>0.140274</td>\n",
       "      <td>0.566575</td>\n",
       "    </tr>\n",
       "    <tr>\n",
       "      <th>RWE</th>\n",
       "      <td>0.252073</td>\n",
       "      <td>0.113599</td>\n",
       "      <td>0.634328</td>\n",
       "    </tr>\n",
       "    <tr>\n",
       "      <th>other</th>\n",
       "      <td>0.564247</td>\n",
       "      <td>0.059076</td>\n",
       "      <td>0.376678</td>\n",
       "    </tr>\n",
       "  </tbody>\n",
       "</table>\n",
       "</div>"
      ],
      "text/plain": [
       "status_group  functional  functional needs repair  non functional\n",
       "installer                                                        \n",
       "DWE             0.542064                 0.093208        0.364728\n",
       "Government      0.293151                 0.140274        0.566575\n",
       "RWE             0.252073                 0.113599        0.634328\n",
       "other           0.564247                 0.059076        0.376678"
      ]
     },
     "execution_count": 96,
     "metadata": {},
     "output_type": "execute_result"
    }
   ],
   "source": [
    "# Build label encoder for installer\n",
    "def feature_installer_encode(X=None):\n",
    "    def transform():\n",
    "        Xcopy = X.copy()\n",
    "        def col_func(x):\n",
    "            retain_list = ['DWE', 'Government', 'RWE']\n",
    "            if x in retain_list:\n",
    "                return x\n",
    "            else:\n",
    "                return 'other'\n",
    "        Xcopy['installer'] = Xcopy['installer'].apply(col_func)\n",
    "        return Xcopy\n",
    "    return transform()\n",
    "    \n",
    "view = ['installer', 'status_group']\n",
    "df_view = feature_installer_encode(train[view])\n",
    "pd.crosstab(df_view.installer, df_view.status_group, normalize='index')"
   ]
  },
  {
   "cell_type": "markdown",
   "metadata": {},
   "source": [
    "**Encoded installer seems to have significant impact.  Build in!**"
   ]
  },
  {
   "cell_type": "code",
   "execution_count": 97,
   "metadata": {},
   "outputs": [
    {
     "data": {
      "text/plain": [
       "array(['Iringa', 'Mara', 'Manyara', 'Mtwara', 'Kagera', 'Tanga',\n",
       "       'Shinyanga', 'Tabora', 'Pwani', 'Ruvuma', 'Kilimanjaro', 'Rukwa',\n",
       "       'Mwanza', 'Kigoma', 'Lindi', 'Dodoma', 'Arusha', 'Mbeya',\n",
       "       'Singida', 'Morogoro', 'Dar es Salaam'], dtype=object)"
      ]
     },
     "metadata": {},
     "output_type": "display_data"
    },
    {
     "data": {
      "text/plain": [
       "array([11, 20, 21, 90, 18,  4, 17, 14, 60, 10,  3, 15, 19, 16, 80,  1,  6,\n",
       "        2, 12, 13,  5,  7, 99, 24,  9,  8, 40], dtype=int64)"
      ]
     },
     "metadata": {},
     "output_type": "display_data"
    },
    {
     "data": {
      "text/html": [
       "<div>\n",
       "<style scoped>\n",
       "    .dataframe tbody tr th:only-of-type {\n",
       "        vertical-align: middle;\n",
       "    }\n",
       "\n",
       "    .dataframe tbody tr th {\n",
       "        vertical-align: top;\n",
       "    }\n",
       "\n",
       "    .dataframe thead th {\n",
       "        text-align: right;\n",
       "    }\n",
       "</style>\n",
       "<table border=\"1\" class=\"dataframe\">\n",
       "  <thead>\n",
       "    <tr style=\"text-align: right;\">\n",
       "      <th>status_group</th>\n",
       "      <th>functional</th>\n",
       "      <th>functional needs repair</th>\n",
       "      <th>non functional</th>\n",
       "    </tr>\n",
       "    <tr>\n",
       "      <th>region_code</th>\n",
       "      <th></th>\n",
       "      <th></th>\n",
       "      <th></th>\n",
       "    </tr>\n",
       "  </thead>\n",
       "  <tbody>\n",
       "    <tr>\n",
       "      <th>1</th>\n",
       "      <td>0.458428</td>\n",
       "      <td>0.094957</td>\n",
       "      <td>0.446615</td>\n",
       "    </tr>\n",
       "    <tr>\n",
       "      <th>2</th>\n",
       "      <td>0.654101</td>\n",
       "      <td>0.057540</td>\n",
       "      <td>0.288360</td>\n",
       "    </tr>\n",
       "    <tr>\n",
       "      <th>3</th>\n",
       "      <td>0.602877</td>\n",
       "      <td>0.073533</td>\n",
       "      <td>0.323590</td>\n",
       "    </tr>\n",
       "    <tr>\n",
       "      <th>4</th>\n",
       "      <td>0.560287</td>\n",
       "      <td>0.029049</td>\n",
       "      <td>0.410665</td>\n",
       "    </tr>\n",
       "    <tr>\n",
       "      <th>5</th>\n",
       "      <td>0.531436</td>\n",
       "      <td>0.074257</td>\n",
       "      <td>0.394307</td>\n",
       "    </tr>\n",
       "  </tbody>\n",
       "</table>\n",
       "</div>"
      ],
      "text/plain": [
       "status_group  functional  functional needs repair  non functional\n",
       "region_code                                                      \n",
       "1               0.458428                 0.094957        0.446615\n",
       "2               0.654101                 0.057540        0.288360\n",
       "3               0.602877                 0.073533        0.323590\n",
       "4               0.560287                 0.029049        0.410665\n",
       "5               0.531436                 0.074257        0.394307"
      ]
     },
     "execution_count": 97,
     "metadata": {},
     "output_type": "execute_result"
    }
   ],
   "source": [
    "view = ['region_code', 'region', 'status_group']\n",
    "# Note: Region code may relate to position cluster. Cluster labeling should be random enough...\n",
    "\n",
    "df_view = train[view]\n",
    "display(df_view.region.unique(), df_view.region_code.unique())\n",
    "pd.crosstab(df_view.region_code, df_view.status_group, normalize='index').head()"
   ]
  },
  {
   "cell_type": "markdown",
   "metadata": {},
   "source": [
    "**Regional differences in functioning wells are significant.  Keeping region_code**"
   ]
  },
  {
   "cell_type": "code",
   "execution_count": 98,
   "metadata": {},
   "outputs": [
    {
     "data": {
      "text/plain": [
       "array(['vwc', 'wug', 'other', 'private operator', 'water board', 'wua',\n",
       "       'company', 'water authority', 'parastatal', 'unknown',\n",
       "       'other - school', 'trust'], dtype=object)"
      ]
     },
     "metadata": {},
     "output_type": "display_data"
    },
    {
     "data": {
      "text/plain": [
       "array(['user-group', 'other', 'commercial', 'parastatal', 'unknown'],\n",
       "      dtype=object)"
      ]
     },
     "metadata": {},
     "output_type": "display_data"
    },
    {
     "data": {
      "text/html": [
       "<div>\n",
       "<style scoped>\n",
       "    .dataframe tbody tr th:only-of-type {\n",
       "        vertical-align: middle;\n",
       "    }\n",
       "\n",
       "    .dataframe tbody tr th {\n",
       "        vertical-align: top;\n",
       "    }\n",
       "\n",
       "    .dataframe thead th {\n",
       "        text-align: right;\n",
       "    }\n",
       "</style>\n",
       "<table border=\"1\" class=\"dataframe\">\n",
       "  <thead>\n",
       "    <tr style=\"text-align: right;\">\n",
       "      <th>status_group</th>\n",
       "      <th>functional</th>\n",
       "      <th>functional needs repair</th>\n",
       "      <th>non functional</th>\n",
       "    </tr>\n",
       "    <tr>\n",
       "      <th>management</th>\n",
       "      <th></th>\n",
       "      <th></th>\n",
       "      <th></th>\n",
       "    </tr>\n",
       "  </thead>\n",
       "  <tbody>\n",
       "    <tr>\n",
       "      <th>company</th>\n",
       "      <td>0.389781</td>\n",
       "      <td>0.021898</td>\n",
       "      <td>0.588321</td>\n",
       "    </tr>\n",
       "    <tr>\n",
       "      <th>other</th>\n",
       "      <td>0.598341</td>\n",
       "      <td>0.065166</td>\n",
       "      <td>0.336493</td>\n",
       "    </tr>\n",
       "    <tr>\n",
       "      <th>other - school</th>\n",
       "      <td>0.232323</td>\n",
       "      <td>0.010101</td>\n",
       "      <td>0.757576</td>\n",
       "    </tr>\n",
       "    <tr>\n",
       "      <th>parastatal</th>\n",
       "      <td>0.576923</td>\n",
       "      <td>0.119344</td>\n",
       "      <td>0.303733</td>\n",
       "    </tr>\n",
       "    <tr>\n",
       "      <th>private operator</th>\n",
       "      <td>0.748858</td>\n",
       "      <td>0.022324</td>\n",
       "      <td>0.228818</td>\n",
       "    </tr>\n",
       "  </tbody>\n",
       "</table>\n",
       "</div>"
      ],
      "text/plain": [
       "status_group      functional  functional needs repair  non functional\n",
       "management                                                           \n",
       "company             0.389781                 0.021898        0.588321\n",
       "other               0.598341                 0.065166        0.336493\n",
       "other - school      0.232323                 0.010101        0.757576\n",
       "parastatal          0.576923                 0.119344        0.303733\n",
       "private operator    0.748858                 0.022324        0.228818"
      ]
     },
     "metadata": {},
     "output_type": "display_data"
    },
    {
     "data": {
      "text/html": [
       "<div>\n",
       "<style scoped>\n",
       "    .dataframe tbody tr th:only-of-type {\n",
       "        vertical-align: middle;\n",
       "    }\n",
       "\n",
       "    .dataframe tbody tr th {\n",
       "        vertical-align: top;\n",
       "    }\n",
       "\n",
       "    .dataframe thead th {\n",
       "        text-align: right;\n",
       "    }\n",
       "</style>\n",
       "<table border=\"1\" class=\"dataframe\">\n",
       "  <thead>\n",
       "    <tr style=\"text-align: right;\">\n",
       "      <th>status_group</th>\n",
       "      <th>functional</th>\n",
       "      <th>functional needs repair</th>\n",
       "      <th>non functional</th>\n",
       "    </tr>\n",
       "    <tr>\n",
       "      <th>management_group</th>\n",
       "      <th></th>\n",
       "      <th></th>\n",
       "      <th></th>\n",
       "    </tr>\n",
       "  </thead>\n",
       "  <tbody>\n",
       "    <tr>\n",
       "      <th>commercial</th>\n",
       "      <td>0.614349</td>\n",
       "      <td>0.032161</td>\n",
       "      <td>0.353491</td>\n",
       "    </tr>\n",
       "    <tr>\n",
       "      <th>other</th>\n",
       "      <td>0.559915</td>\n",
       "      <td>0.059385</td>\n",
       "      <td>0.380700</td>\n",
       "    </tr>\n",
       "    <tr>\n",
       "      <th>parastatal</th>\n",
       "      <td>0.576923</td>\n",
       "      <td>0.119344</td>\n",
       "      <td>0.303733</td>\n",
       "    </tr>\n",
       "    <tr>\n",
       "      <th>unknown</th>\n",
       "      <td>0.399287</td>\n",
       "      <td>0.048128</td>\n",
       "      <td>0.552585</td>\n",
       "    </tr>\n",
       "    <tr>\n",
       "      <th>user-group</th>\n",
       "      <td>0.538236</td>\n",
       "      <td>0.074414</td>\n",
       "      <td>0.387350</td>\n",
       "    </tr>\n",
       "  </tbody>\n",
       "</table>\n",
       "</div>"
      ],
      "text/plain": [
       "status_group      functional  functional needs repair  non functional\n",
       "management_group                                                     \n",
       "commercial          0.614349                 0.032161        0.353491\n",
       "other               0.559915                 0.059385        0.380700\n",
       "parastatal          0.576923                 0.119344        0.303733\n",
       "unknown             0.399287                 0.048128        0.552585\n",
       "user-group          0.538236                 0.074414        0.387350"
      ]
     },
     "metadata": {},
     "output_type": "display_data"
    }
   ],
   "source": [
    "view = ['management', 'management_group', 'status_group']\n",
    "# Note: Region code may relate to position cluster. Cluster labeling should be random enough...\n",
    "\n",
    "df_view = train[view]\n",
    "display(df_view.management.unique(), df_view.management_group.unique())\n",
    "display(pd.crosstab(df_view.management, df_view.status_group, normalize='index').head())\n",
    "display(pd.crosstab(df_view.management_group, df_view.status_group, normalize='index').head())"
   ]
  },
  {
   "cell_type": "markdown",
   "metadata": {},
   "source": [
    "**Both management and management_group seem to have unique information**"
   ]
  },
  {
   "cell_type": "code",
   "execution_count": 22,
   "metadata": {},
   "outputs": [
    {
     "data": {
      "text/plain": [
       "array(['soft', 'salty', 'milky', 'unknown', 'fluoride', 'coloured',\n",
       "       'salty abandoned', 'fluoride abandoned'], dtype=object)"
      ]
     },
     "metadata": {},
     "output_type": "display_data"
    },
    {
     "data": {
      "text/plain": [
       "array(['good', 'salty', 'milky', 'unknown', 'fluoride', 'colored'],\n",
       "      dtype=object)"
      ]
     },
     "metadata": {},
     "output_type": "display_data"
    },
    {
     "data": {
      "text/html": [
       "<div>\n",
       "<style scoped>\n",
       "    .dataframe tbody tr th:only-of-type {\n",
       "        vertical-align: middle;\n",
       "    }\n",
       "\n",
       "    .dataframe tbody tr th {\n",
       "        vertical-align: top;\n",
       "    }\n",
       "\n",
       "    .dataframe thead th {\n",
       "        text-align: right;\n",
       "    }\n",
       "</style>\n",
       "<table border=\"1\" class=\"dataframe\">\n",
       "  <thead>\n",
       "    <tr style=\"text-align: right;\">\n",
       "      <th>status_group</th>\n",
       "      <th>functional</th>\n",
       "      <th>functional needs repair</th>\n",
       "      <th>non functional</th>\n",
       "    </tr>\n",
       "    <tr>\n",
       "      <th>water_quality</th>\n",
       "      <th></th>\n",
       "      <th></th>\n",
       "      <th></th>\n",
       "    </tr>\n",
       "  </thead>\n",
       "  <tbody>\n",
       "    <tr>\n",
       "      <th>coloured</th>\n",
       "      <td>0.502041</td>\n",
       "      <td>0.110204</td>\n",
       "      <td>0.387755</td>\n",
       "    </tr>\n",
       "    <tr>\n",
       "      <th>fluoride</th>\n",
       "      <td>0.755000</td>\n",
       "      <td>0.065000</td>\n",
       "      <td>0.180000</td>\n",
       "    </tr>\n",
       "    <tr>\n",
       "      <th>fluoride abandoned</th>\n",
       "      <td>0.352941</td>\n",
       "      <td>0.000000</td>\n",
       "      <td>0.647059</td>\n",
       "    </tr>\n",
       "    <tr>\n",
       "      <th>milky</th>\n",
       "      <td>0.544776</td>\n",
       "      <td>0.017413</td>\n",
       "      <td>0.437811</td>\n",
       "    </tr>\n",
       "    <tr>\n",
       "      <th>salty</th>\n",
       "      <td>0.457166</td>\n",
       "      <td>0.046334</td>\n",
       "      <td>0.496499</td>\n",
       "    </tr>\n",
       "  </tbody>\n",
       "</table>\n",
       "</div>"
      ],
      "text/plain": [
       "status_group        functional  functional needs repair  non functional\n",
       "water_quality                                                          \n",
       "coloured              0.502041                 0.110204        0.387755\n",
       "fluoride              0.755000                 0.065000        0.180000\n",
       "fluoride abandoned    0.352941                 0.000000        0.647059\n",
       "milky                 0.544776                 0.017413        0.437811\n",
       "salty                 0.457166                 0.046334        0.496499"
      ]
     },
     "metadata": {},
     "output_type": "display_data"
    }
   ],
   "source": [
    "view = ['water_quality', 'quality_group', 'status_group']\n",
    "# Note: Region code may relate to position cluster. Cluster labeling should be random enough...\n",
    "\n",
    "df_view = train[view]\n",
    "display(df_view.water_quality.unique(), df_view.quality_group.unique())\n",
    "display(pd.crosstab(df_view.water_quality, df_view.status_group, normalize='index').head())"
   ]
  },
  {
   "cell_type": "markdown",
   "metadata": {},
   "source": [
    "**Seems like quality has more information, including an abandoned type**"
   ]
  },
  {
   "cell_type": "code",
   "execution_count": 23,
   "metadata": {},
   "outputs": [
    {
     "data": {
      "text/plain": [
       "array(['spring', 'rainwater harvesting', 'dam', 'borehole', 'other',\n",
       "       'shallow well', 'river/lake'], dtype=object)"
      ]
     },
     "metadata": {},
     "output_type": "display_data"
    },
    {
     "data": {
      "text/plain": [
       "array(['groundwater', 'surface', 'unknown'], dtype=object)"
      ]
     },
     "metadata": {},
     "output_type": "display_data"
    },
    {
     "data": {
      "text/html": [
       "<div>\n",
       "<style scoped>\n",
       "    .dataframe tbody tr th:only-of-type {\n",
       "        vertical-align: middle;\n",
       "    }\n",
       "\n",
       "    .dataframe tbody tr th {\n",
       "        vertical-align: top;\n",
       "    }\n",
       "\n",
       "    .dataframe thead th {\n",
       "        text-align: right;\n",
       "    }\n",
       "</style>\n",
       "<table border=\"1\" class=\"dataframe\">\n",
       "  <thead>\n",
       "    <tr style=\"text-align: right;\">\n",
       "      <th>status_group</th>\n",
       "      <th>functional</th>\n",
       "      <th>functional needs repair</th>\n",
       "      <th>non functional</th>\n",
       "    </tr>\n",
       "    <tr>\n",
       "      <th>source_type</th>\n",
       "      <th></th>\n",
       "      <th></th>\n",
       "      <th></th>\n",
       "    </tr>\n",
       "  </thead>\n",
       "  <tbody>\n",
       "    <tr>\n",
       "      <th>borehole</th>\n",
       "      <td>0.495355</td>\n",
       "      <td>0.042514</td>\n",
       "      <td>0.462131</td>\n",
       "    </tr>\n",
       "    <tr>\n",
       "      <th>dam</th>\n",
       "      <td>0.385671</td>\n",
       "      <td>0.036585</td>\n",
       "      <td>0.577744</td>\n",
       "    </tr>\n",
       "    <tr>\n",
       "      <th>other</th>\n",
       "      <td>0.568345</td>\n",
       "      <td>0.017986</td>\n",
       "      <td>0.413669</td>\n",
       "    </tr>\n",
       "    <tr>\n",
       "      <th>rainwater harvesting</th>\n",
       "      <td>0.603922</td>\n",
       "      <td>0.136819</td>\n",
       "      <td>0.259259</td>\n",
       "    </tr>\n",
       "    <tr>\n",
       "      <th>river/lake</th>\n",
       "      <td>0.542257</td>\n",
       "      <td>0.118820</td>\n",
       "      <td>0.338923</td>\n",
       "    </tr>\n",
       "  </tbody>\n",
       "</table>\n",
       "</div>"
      ],
      "text/plain": [
       "status_group          functional  functional needs repair  non functional\n",
       "source_type                                                              \n",
       "borehole                0.495355                 0.042514        0.462131\n",
       "dam                     0.385671                 0.036585        0.577744\n",
       "other                   0.568345                 0.017986        0.413669\n",
       "rainwater harvesting    0.603922                 0.136819        0.259259\n",
       "river/lake              0.542257                 0.118820        0.338923"
      ]
     },
     "metadata": {},
     "output_type": "display_data"
    }
   ],
   "source": [
    "view = ['source_type', 'source_class', 'status_group']\n",
    "# Note: Region code may relate to position cluster. Cluster labeling should be random enough...\n",
    "\n",
    "df_view = train[view]\n",
    "display(df_view.source_type.unique(), df_view.source_class.unique())\n",
    "display(pd.crosstab(df_view.source_type, df_view.status_group, normalize='index').head())"
   ]
  },
  {
   "cell_type": "markdown",
   "metadata": {},
   "source": [
    "**source_type has finer granularity and reflects much the same information. Significant impact on categories**"
   ]
  },
  {
   "cell_type": "markdown",
   "metadata": {},
   "source": [
    "## Available Features - First Look Analysis\n",
    "### Summary\n",
    "\n",
    "**A few items that don't have physical/environmental bearing on the pump**\n",
    "\n",
    "* permit, and wpt_name\n",
    "* id\n",
    "*recorded_by & date_recorded\n",
    "*quantity_group seems to be somewhat redundant with quantity, so will be dropped\n",
    "*subvillage, region will covary with region_code most likely, and will be dropped\n",
    "*source and source_type have a lot of redundancy\n",
    "*waterpoint_type_group and waterpoint have some redundancy, the group has lower cat_no, so will be used\n",
    "*ward, public_meeting\n",
    "*scheme_name is interesting and may warrant further analysis.  scheme_management is set for categorization already\n",
    "* extraction_type has the finest grained information, but has a lot of 'other' types.  extraction_type_group will be used in classifier. _type, and _type_class will be dropped.\n",
    "* Region_code seems to be unique enough to forego text region and encoding.\n",
    "\n",
    "drop_list = ['permit', 'recorded_by', 'quantity_group', 'source', 'waterpoint_type_group', 'lga', 'ward', 'public_meeting', 'scheme_name', 'extraction_type_class', 'extraction_type', 'region',\n",
    "]\n",
    "\n",
    "**Some generation might make analysis more intuitive**\n",
    "\n",
    "* From construction_year.max - construction_year create relative_age\n",
    "* From construction_year - date_recorded create years_last_inspection"
   ]
  },
  {
   "cell_type": "code",
   "execution_count": 211,
   "metadata": {},
   "outputs": [
    {
     "data": {
      "text/plain": [
       "id                         int64\n",
       "amount_tsh               float64\n",
       "gps_height                 int64\n",
       "installer                 object\n",
       "longitude                float64\n",
       "latitude                 float64\n",
       "num_private                int64\n",
       "basin                     object\n",
       "region_code                int64\n",
       "district_code              int64\n",
       "population                 int64\n",
       "construction_year          int64\n",
       "extraction_type_group     object\n",
       "management                object\n",
       "management_group          object\n",
       "water_quality             object\n",
       "quantity                  object\n",
       "source_type               object\n",
       "waterpoint_type           object\n",
       "status_group              object\n",
       "dtype: object"
      ]
     },
     "execution_count": 211,
     "metadata": {},
     "output_type": "execute_result"
    }
   ],
   "source": [
    "# Build list 'view' for required inputs to model.  Items not validated for effect are removed \n",
    "#   pending further analysis.\n",
    "drop_list = ['permit', 'recorded_by','date_recorded', 'quantity_group','subvillage', 'source',\n",
    "             'waterpoint_type_group', 'lga', 'ward', 'public_meeting', 'scheme_name',\n",
    "             'extraction_type_class', 'extraction_type', 'region', 'scheme_management',\n",
    "             'payment', 'payment_type', 'quality_group', 'source_class', 'wpt_name', 'funder',\n",
    "            ]\n",
    "view = train.drop(columns=drop_list).columns.tolist()\n",
    "train[view].dtypes"
   ]
  },
  {
   "cell_type": "markdown",
   "metadata": {},
   "source": [
    "## Building a custom transform to handle fit and encoding\n",
    "**Transform class capable of multi-fit, multi-transform**\n",
    "\n",
    "The goal is to consolidate feature and target transformation into a separate pipeline from feature selection and regression(model fitting, prediction, scoring)"
   ]
  },
  {
   "cell_type": "code",
   "execution_count": 25,
   "metadata": {},
   "outputs": [],
   "source": [
    "from collections import OrderedDict \n",
    "import pandas as pd\n",
    "\n",
    "class TransformPipeline():\n",
    "    '''\n",
    "    Transform Handler class mimicks sklearn make_pipeline to allow custom functions of type:\n",
    "    \n",
    "    input(X) -> fit(x) -> transform(x)\n",
    "    '''\n",
    "    def __init__(self,  **kwargs):\n",
    "        self.targets = None\n",
    "        self.features = None\n",
    "        self.cache = None\n",
    "        self.steps = OrderedDict()\n",
    "        if kwargs:\n",
    "            for item in kwargs.items():\n",
    "                self.add(item)\n",
    "    \n",
    "    def add(self, step_to_add):\n",
    "        if type(step_to_add) == tuple:\n",
    "            (key, val) = step_to_add\n",
    "            self.steps[key] = val\n",
    "        elif type(step_to_add) == dict:\n",
    "            for key, val in step_to_add.items():\n",
    "                self.steps[key] = val\n",
    "    \n",
    "    def remove(self, *args):\n",
    "        for key in args:\n",
    "            del self.steps[key]\n",
    "    \n",
    "    def fit(self, X=None, y=None):     \n",
    "        self.initialize_data(X, y)\n",
    "        for step_name, step_function in self.steps.items():\n",
    "            try:\n",
    "                step_function.fit(self.features)\n",
    "                self.cache = None\n",
    "            except:\n",
    "                print('Function', step_name, 'does not have a fit method or...')\n",
    "                raise\n",
    "                \n",
    "    def transform(self, X):\n",
    "        self.cache = X.copy()\n",
    "        for step_name, step_function in self.steps.items():\n",
    "            print('Attempting transform: ', step_name)\n",
    "            try:\n",
    "                self.cache = step_function.transform(self.cache)\n",
    "            except KeyError as e:\n",
    "                print('Trying to work on missing val/col', str(e))\n",
    "            except:\n",
    "                print('Function', step_name, 'does not have a transform method or..')\n",
    "                raise\n",
    "        return self.cache\n",
    "    \n",
    "    def initialize_data(self, features, targets):\n",
    "        self.features = features\n",
    "        self.targets = targets"
   ]
  },
  {
   "cell_type": "code",
   "execution_count": 26,
   "metadata": {},
   "outputs": [
    {
     "data": {
      "text/plain": [
       "OrderedDict([('1', 'sometxt'), ('2', 'moretxt')])"
      ]
     },
     "execution_count": 26,
     "metadata": {},
     "output_type": "execute_result"
    }
   ],
   "source": [
    "# Example use of class\n",
    "testd = {'1':'sometxt', '2':'moretxt'}    \n",
    "tpipe = TransformPipeline()\n",
    "tpipe.add(testd)\n",
    "tpipe.steps"
   ]
  },
  {
   "cell_type": "code",
   "execution_count": 29,
   "metadata": {},
   "outputs": [
    {
     "name": "stdout",
     "output_type": "stream",
     "text": [
      "Attempting transform:  standard scaler\n"
     ]
    },
    {
     "data": {
      "text/html": [
       "<div>\n",
       "<style scoped>\n",
       "    .dataframe tbody tr th:only-of-type {\n",
       "        vertical-align: middle;\n",
       "    }\n",
       "\n",
       "    .dataframe tbody tr th {\n",
       "        vertical-align: top;\n",
       "    }\n",
       "\n",
       "    .dataframe thead th {\n",
       "        text-align: right;\n",
       "    }\n",
       "</style>\n",
       "<table border=\"1\" class=\"dataframe\">\n",
       "  <thead>\n",
       "    <tr style=\"text-align: right;\">\n",
       "      <th></th>\n",
       "      <th>A</th>\n",
       "      <th>B</th>\n",
       "    </tr>\n",
       "  </thead>\n",
       "  <tbody>\n",
       "    <tr>\n",
       "      <th>0</th>\n",
       "      <td>1</td>\n",
       "      <td>4</td>\n",
       "    </tr>\n",
       "    <tr>\n",
       "      <th>1</th>\n",
       "      <td>2</td>\n",
       "      <td>5</td>\n",
       "    </tr>\n",
       "    <tr>\n",
       "      <th>2</th>\n",
       "      <td>-2</td>\n",
       "      <td>10</td>\n",
       "    </tr>\n",
       "  </tbody>\n",
       "</table>\n",
       "</div>"
      ],
      "text/plain": [
       "   A   B\n",
       "0  1   4\n",
       "1  2   5\n",
       "2 -2  10"
      ]
     },
     "metadata": {},
     "output_type": "display_data"
    },
    {
     "data": {
      "text/html": [
       "<div>\n",
       "<style scoped>\n",
       "    .dataframe tbody tr th:only-of-type {\n",
       "        vertical-align: middle;\n",
       "    }\n",
       "\n",
       "    .dataframe tbody tr th {\n",
       "        vertical-align: top;\n",
       "    }\n",
       "\n",
       "    .dataframe thead th {\n",
       "        text-align: right;\n",
       "    }\n",
       "</style>\n",
       "<table border=\"1\" class=\"dataframe\">\n",
       "  <thead>\n",
       "    <tr style=\"text-align: right;\">\n",
       "      <th></th>\n",
       "      <th>A</th>\n",
       "      <th>B</th>\n",
       "    </tr>\n",
       "  </thead>\n",
       "  <tbody>\n",
       "    <tr>\n",
       "      <th>0</th>\n",
       "      <td>0.392232</td>\n",
       "      <td>-0.889001</td>\n",
       "    </tr>\n",
       "    <tr>\n",
       "      <th>1</th>\n",
       "      <td>0.980581</td>\n",
       "      <td>-0.508001</td>\n",
       "    </tr>\n",
       "    <tr>\n",
       "      <th>2</th>\n",
       "      <td>-1.372813</td>\n",
       "      <td>1.397001</td>\n",
       "    </tr>\n",
       "  </tbody>\n",
       "</table>\n",
       "</div>"
      ],
      "text/plain": [
       "          A         B\n",
       "0  0.392232 -0.889001\n",
       "1  0.980581 -0.508001\n",
       "2 -1.372813  1.397001"
      ]
     },
     "metadata": {},
     "output_type": "display_data"
    }
   ],
   "source": [
    "# Implementing handler with existing encoder\n",
    "from sklearn.preprocessing import StandardScaler\n",
    "\n",
    "x1 = pd.DataFrame({'A':[1,2,-2], 'B':[4,5,10]})\n",
    "tpipe = TransformPipeline()\n",
    "tpipe.add({'standard scaler':DataFrameScalar(scaler=StandardScaler(), columns=['A', 'B']),\n",
    "            })\n",
    "tpipe.fit(x1)\n",
    "display(tpipe.features, tpipe.transform(x1))"
   ]
  },
  {
   "cell_type": "markdown",
   "metadata": {},
   "source": [
    "## Scaler Wrapper\n",
    "**In order to maintain dataframes between scalars and provide column-specific scaling, we'll need a to wrap the scalars in a simple class**\n",
    "\n",
    "This also yields the ability to have scalars only act on certain columns by normal columns=[list of names] convention in pandas!"
   ]
  },
  {
   "cell_type": "code",
   "execution_count": 30,
   "metadata": {},
   "outputs": [],
   "source": [
    "class DataFrameScalar():\n",
    "    def __init__(self, scaler=None, columns=None):\n",
    "        self.scaler = scaler\n",
    "        self.columns = columns\n",
    "    \n",
    "    def fit(self, X):\n",
    "        if self.columns == None:\n",
    "            self.scaler.fit(X)\n",
    "        else:\n",
    "            self.scaler.fit(X[self.columns])\n",
    "    \n",
    "    def transform(self, X):\n",
    "        # Complete the transform, returns an array with no index\n",
    "        Xcopy = X.copy()\n",
    "        if self.columns == None:\n",
    "            columns = Xcopy.columns\n",
    "        else:\n",
    "            columns = self.columns\n",
    "        ar_transform = self.scaler.transform(Xcopy[columns])    \n",
    "        # Add data back to dataframe\n",
    "        assert type(columns==list)\n",
    "        for i, col_name in enumerate(columns):\n",
    "            Xcopy[col_name] = ar_transform[:,i]\n",
    "        return Xcopy\n",
    "        "
   ]
  },
  {
   "cell_type": "markdown",
   "metadata": {},
   "source": [
    "### Feature Constructor Class\n",
    "**Contains all user generated features and necessary parameters**"
   ]
  },
  {
   "cell_type": "code",
   "execution_count": 102,
   "metadata": {},
   "outputs": [],
   "source": [
    "from category_encoders import OneHotEncoder\n",
    "from sklearn.preprocessing import MinMaxScaler\n",
    "\n",
    "class ConstructFeatures():\n",
    "    '''\n",
    "    TODO: feature_name: (function, (params))\n",
    "    Temporary: code params and functions directly into features class\n",
    "    '''\n",
    "    def __init__(self, features=None, cat_encode_vars=None):\n",
    "        self.fit_params = {}\n",
    "        if features == None:\n",
    "            self.features = []\n",
    "        else:\n",
    "            self.features = features\n",
    "        self.cat_encode_vars = cat_encode_vars\n",
    "        \n",
    "    def fit(self, X):\n",
    "        if 'rel_age' in self.features:\n",
    "            self.fit_params['construction_year_max'] = X['construction_year'].max()\n",
    "            self.fit_params['construction_year_median'] = X['construction_year'].median()\n",
    "        if 'installer' in self.features:\n",
    "            self.fit_params['encoder'] = OneHotEncoder(cols=['installer'], use_cat_names=True).fit(\n",
    "            feature_installer_encode(df=X))\n",
    "        if self.cat_encode_vars:\n",
    "            self.fit_params['general_cat_encoder'] = OneHotEncoder(cols=self.cat_encode_vars, use_cat_names=True).fit(X[self.cat_encode_vars]) \n",
    "        \n",
    "    def transform(self, X):\n",
    "        Xt = X.copy()\n",
    "        if 'rel_age' in self.features:\n",
    "            Xt = feature_rel_age(df=Xt, construction_year_max=self.fit_params['construction_year_max'], \n",
    "                                 impute_val=self.fit_params['construction_year_median'])\n",
    "        if 'installer' in self.features:\n",
    "            Xt = feature_installer_encode(df=Xt)\n",
    "            Xt = self.fit_params['encoder'].transform(Xt)\n",
    "        if self.cat_encode_vars:\n",
    "            Xt = Xt.join(self.fit_params['general_cat_encoder'].transform(Xt[self.cat_encode_vars]))\n",
    "        return Xt\n",
    "\n",
    "# Build feature generator for relative age('rel_age')\n",
    "def feature_rel_age(df, construction_year_max, impute_val):\n",
    "    from sklearn.impute import SimpleImputer\n",
    "    Xcopy = df.copy()\n",
    "    most_recent_year = construction_year_max\n",
    "    def col_func(x):\n",
    "        if x == 0:\n",
    "            return abs(impute_val - most_recent_year)\n",
    "        else:\n",
    "            return abs(x - most_recent_year)\n",
    "    Xcopy['rel_age'] = Xcopy['construction_year'].apply(col_func)\n",
    "    Xcopy = Xcopy.drop(columns='construction_year')\n",
    "    return Xcopy\n",
    "\n",
    "\n",
    "# Build label encoder for installer\n",
    "def feature_installer_encode(df):\n",
    "    Xcopy = df.copy()\n",
    "    def col_func(x):\n",
    "        retain_list = ['DWE', 'Government', 'RWE']\n",
    "        if x in retain_list:\n",
    "            return x\n",
    "        else:\n",
    "            return 'other'\n",
    "    Xcopy['installer'] = Xcopy['installer'].apply(col_func)\n",
    "    return Xcopy"
   ]
  },
  {
   "cell_type": "code",
   "execution_count": 103,
   "metadata": {},
   "outputs": [
    {
     "data": {
      "text/html": [
       "<div>\n",
       "<style scoped>\n",
       "    .dataframe tbody tr th:only-of-type {\n",
       "        vertical-align: middle;\n",
       "    }\n",
       "\n",
       "    .dataframe tbody tr th {\n",
       "        vertical-align: top;\n",
       "    }\n",
       "\n",
       "    .dataframe thead th {\n",
       "        text-align: right;\n",
       "    }\n",
       "</style>\n",
       "<table border=\"1\" class=\"dataframe\">\n",
       "  <thead>\n",
       "    <tr style=\"text-align: right;\">\n",
       "      <th></th>\n",
       "      <th>longitude</th>\n",
       "      <th>latitude</th>\n",
       "      <th>gps_height</th>\n",
       "      <th>status_group</th>\n",
       "      <th>rel_age</th>\n",
       "    </tr>\n",
       "  </thead>\n",
       "  <tbody>\n",
       "    <tr>\n",
       "      <th>0</th>\n",
       "      <td>34.938093</td>\n",
       "      <td>-9.856322</td>\n",
       "      <td>1390</td>\n",
       "      <td>functional</td>\n",
       "      <td>14.0</td>\n",
       "    </tr>\n",
       "    <tr>\n",
       "      <th>1</th>\n",
       "      <td>34.698766</td>\n",
       "      <td>-2.147466</td>\n",
       "      <td>1399</td>\n",
       "      <td>functional</td>\n",
       "      <td>3.0</td>\n",
       "    </tr>\n",
       "    <tr>\n",
       "      <th>2</th>\n",
       "      <td>37.460664</td>\n",
       "      <td>-3.821329</td>\n",
       "      <td>686</td>\n",
       "      <td>functional</td>\n",
       "      <td>4.0</td>\n",
       "    </tr>\n",
       "    <tr>\n",
       "      <th>3</th>\n",
       "      <td>38.486161</td>\n",
       "      <td>-11.155298</td>\n",
       "      <td>263</td>\n",
       "      <td>non functional</td>\n",
       "      <td>27.0</td>\n",
       "    </tr>\n",
       "    <tr>\n",
       "      <th>4</th>\n",
       "      <td>31.130847</td>\n",
       "      <td>-1.825359</td>\n",
       "      <td>0</td>\n",
       "      <td>functional</td>\n",
       "      <td>27.0</td>\n",
       "    </tr>\n",
       "  </tbody>\n",
       "</table>\n",
       "</div>"
      ],
      "text/plain": [
       "   longitude   latitude  gps_height    status_group  rel_age\n",
       "0  34.938093  -9.856322        1390      functional     14.0\n",
       "1  34.698766  -2.147466        1399      functional      3.0\n",
       "2  37.460664  -3.821329         686      functional      4.0\n",
       "3  38.486161 -11.155298         263  non functional     27.0\n",
       "4  31.130847  -1.825359           0      functional     27.0"
      ]
     },
     "execution_count": 103,
     "metadata": {},
     "output_type": "execute_result"
    }
   ],
   "source": [
    "feat_constructor = ConstructFeatures(features='rel_age')\n",
    "feat_constructor.fit(train[['longitude', 'latitude', 'gps_height', 'construction_year', 'status_group']])\n",
    "feat_constructor.transform(train[['longitude', 'latitude', 'gps_height', 'construction_year', 'status_group']]).head()"
   ]
  },
  {
   "cell_type": "markdown",
   "metadata": {},
   "source": [
    "**General Purpose Cleaning - Dropping unused features**"
   ]
  },
  {
   "cell_type": "code",
   "execution_count": 229,
   "metadata": {},
   "outputs": [],
   "source": [
    "class DropFeatures():\n",
    "    def __init__(self, columns=None, logic=None):\n",
    "        self.drop_list = columns\n",
    "\n",
    "    def fit(self, X):\n",
    "        pass\n",
    "    \n",
    "    def execute_logic(self, X):\n",
    "        pass\n",
    "    \n",
    "    def transform(self, X):\n",
    "        Xcopy = X.copy()\n",
    "        Xcopy = Xcopy.drop(columns=self.drop_list)\n",
    "        return Xcopy"
   ]
  },
  {
   "cell_type": "markdown",
   "metadata": {},
   "source": [
    "## Tranform Full dataset\n",
    "**Assumes view set.  Else, set view = list of features to include**"
   ]
  },
  {
   "cell_type": "code",
   "execution_count": 295,
   "metadata": {},
   "outputs": [
    {
     "name": "stdout",
     "output_type": "stream",
     "text": [
      "Expect maximum of  66 more features\n"
     ]
    },
    {
     "data": {
      "text/plain": [
       "(59399, 19)"
      ]
     },
     "metadata": {},
     "output_type": "display_data"
    },
    {
     "data": {
      "text/plain": [
       "(59399,)"
      ]
     },
     "metadata": {},
     "output_type": "display_data"
    }
   ],
   "source": [
    "# Sample Data\n",
    "target = 'status_group'\n",
    "max_block_size = train.shape[0]\n",
    "block_size = max_block_size-1\n",
    "temp_df = train[view].sample(block_size).copy()\n",
    "\n",
    "X = temp_df.drop(columns=target)\n",
    "y = temp_df[target]\n",
    "\n",
    "# Isolate variables for one_hot encoding that don't need custom reduction\n",
    "one_hot_vars = X.dtypes[X.dtypes==object]\n",
    "one_hot_vars = one_hot_vars.drop(['installer']).index.to_list()\n",
    "\n",
    "# Check max size\n",
    "expected_new_feat = 0\n",
    "for var in one_hot_vars:\n",
    "    expected_new_feat += X[var].nunique()\n",
    "print('Expect maximum of ', expected_new_feat, 'more features')\n",
    "display(X.shape, y.shape)"
   ]
  },
  {
   "cell_type": "code",
   "execution_count": 296,
   "metadata": {},
   "outputs": [
    {
     "name": "stdout",
     "output_type": "stream",
     "text": [
      "Attempting transform:  feature engineering\n",
      "Attempting transform:  minmaxScalar scaler\n",
      "Attempting transform:  position transformer\n",
      "Attempting transform:  drop features\n"
     ]
    }
   ],
   "source": [
    "# Building an engineer/encode/transform pipeline\n",
    "transforms = {\n",
    "    'feature engineering': ConstructFeatures(features=['rel_age', 'installer'], cat_encode_vars=one_hot_vars),\n",
    "    'minmaxScalar scaler': DataFrameScalar(scaler=MinMaxScaler(), columns=['amount_tsh']),\n",
    "    'position transformer': PositionTransform(k=10),\n",
    "    'drop features': DropFeatures(columns=one_hot_vars+['id'], logic=None)\n",
    "}\n",
    "\n",
    "tpipe = TransformPipeline()\n",
    "tpipe.add(transforms)\n",
    "tpipe.fit(X)\n",
    "X_transform = tpipe.transform(X)"
   ]
  },
  {
   "cell_type": "code",
   "execution_count": 297,
   "metadata": {},
   "outputs": [
    {
     "name": "stdout",
     "output_type": "stream",
     "text": [
      "Attempting transform:  feature engineering\n",
      "Attempting transform:  minmaxScalar scaler\n",
      "Attempting transform:  position transformer\n",
      "Attempting transform:  drop features\n"
     ]
    }
   ],
   "source": [
    "# Split into training and validation sets -> Generate X_train, X_val, y_train, y_val\n",
    "from sklearn.model_selection import train_test_split\n",
    "\n",
    "X_train, X_val, y_train, y_val = train_test_split(X_transform, y, test_size=0.20, random_state=42)\n",
    "X_test = tpipe.transform(test[X.dtypes.index.tolist()])"
   ]
  },
  {
   "cell_type": "markdown",
   "metadata": {},
   "source": [
    "## Model data\n",
    "**Pipeline for feature selection & modeling**"
   ]
  },
  {
   "cell_type": "code",
   "execution_count": 298,
   "metadata": {},
   "outputs": [
    {
     "data": {
      "text/plain": [
       "<matplotlib.axes._subplots.AxesSubplot at 0x12cc37b2748>"
      ]
     },
     "execution_count": 298,
     "metadata": {},
     "output_type": "execute_result"
    },
    {
     "data": {
      "image/png": "[encoded data removed]",
      "text/plain": [
       "<Figure size 432x288 with 1 Axes>"
      ]
     },
     "metadata": {
      "needs_background": "light"
     },
     "output_type": "display_data"
    }
   ],
   "source": [
    "# Parameter tuning (small sample only on baby laptop, <2000 observations)\n",
    "model_evals = []\n",
    "for num_leaves in range(50,125):\n",
    "    pipeline = make_pipeline(\n",
    "                        DecisionTreeClassifier(min_samples_leaf=num_leaves, random_state=42)\n",
    "                        )\n",
    "    pipeline.fit(X_train, y_train)\n",
    "    model_evals.append([pipeline.score(X_val, y_val), pipeline.score(X_train, y_train)])\n",
    "\n",
    "model_evals = pd.DataFrame(model_evals, columns=['validation_score', 'training_score'])\n",
    "sns.scatterplot(data=model_evals)"
   ]
  },
  {
   "cell_type": "code",
   "execution_count": 308,
   "metadata": {},
   "outputs": [
    {
     "name": "stdout",
     "output_type": "stream",
     "text": [
      "Training Accuracy:  0.7583492918622025\n",
      "Validation Accuracy:  0.7523569023569023\n"
     ]
    }
   ],
   "source": [
    "# Single pass run (optimum min_samples_leaf)\n",
    "from sklearn.pipeline import make_pipeline\n",
    "from sklearn.tree import DecisionTreeClassifier\n",
    "\n",
    "num_leaves = 62\n",
    "pipeline = make_pipeline(\n",
    "                        DecisionTreeClassifier(min_samples_leaf=num_leaves, random_state=42)\n",
    "                        )\n",
    "\n",
    "pipeline.fit(X_train, y_train)\n",
    "print('Training Accuracy: ', pipeline.score(X_train, y_train))\n",
    "print('Validation Accuracy: ', pipeline.score(X_val, y_val))"
   ]
  },
  {
   "cell_type": "code",
   "execution_count": 311,
   "metadata": {},
   "outputs": [
    {
     "name": "stderr",
     "output_type": "stream",
     "text": [
      "C:\\Users\\vince\\Anaconda3\\envs\\datasc\\lib\\site-packages\\sklearn\\linear_model\\sag.py:337: ConvergenceWarning: The max_iter was reached which means the coef_ did not converge\n",
      "  \"the coef_ did not converge\", ConvergenceWarning)\n",
      "C:\\Users\\vince\\Anaconda3\\envs\\datasc\\lib\\site-packages\\sklearn\\linear_model\\sag.py:337: ConvergenceWarning: The max_iter was reached which means the coef_ did not converge\n",
      "  \"the coef_ did not converge\", ConvergenceWarning)\n",
      "C:\\Users\\vince\\Anaconda3\\envs\\datasc\\lib\\site-packages\\sklearn\\linear_model\\sag.py:337: ConvergenceWarning: The max_iter was reached which means the coef_ did not converge\n",
      "  \"the coef_ did not converge\", ConvergenceWarning)\n",
      "C:\\Users\\vince\\Anaconda3\\envs\\datasc\\lib\\site-packages\\sklearn\\linear_model\\sag.py:337: ConvergenceWarning: The max_iter was reached which means the coef_ did not converge\n",
      "  \"the coef_ did not converge\", ConvergenceWarning)\n",
      "C:\\Users\\vince\\Anaconda3\\envs\\datasc\\lib\\site-packages\\sklearn\\linear_model\\sag.py:337: ConvergenceWarning: The max_iter was reached which means the coef_ did not converge\n",
      "  \"the coef_ did not converge\", ConvergenceWarning)\n",
      "C:\\Users\\vince\\Anaconda3\\envs\\datasc\\lib\\site-packages\\sklearn\\linear_model\\sag.py:337: ConvergenceWarning: The max_iter was reached which means the coef_ did not converge\n",
      "  \"the coef_ did not converge\", ConvergenceWarning)\n",
      "C:\\Users\\vince\\Anaconda3\\envs\\datasc\\lib\\site-packages\\sklearn\\linear_model\\sag.py:337: ConvergenceWarning: The max_iter was reached which means the coef_ did not converge\n",
      "  \"the coef_ did not converge\", ConvergenceWarning)\n",
      "C:\\Users\\vince\\Anaconda3\\envs\\datasc\\lib\\site-packages\\sklearn\\linear_model\\sag.py:337: ConvergenceWarning: The max_iter was reached which means the coef_ did not converge\n",
      "  \"the coef_ did not converge\", ConvergenceWarning)\n",
      "C:\\Users\\vince\\Anaconda3\\envs\\datasc\\lib\\site-packages\\sklearn\\linear_model\\sag.py:337: ConvergenceWarning: The max_iter was reached which means the coef_ did not converge\n",
      "  \"the coef_ did not converge\", ConvergenceWarning)\n",
      "C:\\Users\\vince\\Anaconda3\\envs\\datasc\\lib\\site-packages\\sklearn\\linear_model\\sag.py:337: ConvergenceWarning: The max_iter was reached which means the coef_ did not converge\n",
      "  \"the coef_ did not converge\", ConvergenceWarning)\n",
      "C:\\Users\\vince\\Anaconda3\\envs\\datasc\\lib\\site-packages\\sklearn\\linear_model\\sag.py:337: ConvergenceWarning: The max_iter was reached which means the coef_ did not converge\n",
      "  \"the coef_ did not converge\", ConvergenceWarning)\n",
      "C:\\Users\\vince\\Anaconda3\\envs\\datasc\\lib\\site-packages\\sklearn\\linear_model\\sag.py:337: ConvergenceWarning: The max_iter was reached which means the coef_ did not converge\n",
      "  \"the coef_ did not converge\", ConvergenceWarning)\n",
      "C:\\Users\\vince\\Anaconda3\\envs\\datasc\\lib\\site-packages\\sklearn\\linear_model\\sag.py:337: ConvergenceWarning: The max_iter was reached which means the coef_ did not converge\n",
      "  \"the coef_ did not converge\", ConvergenceWarning)\n",
      "C:\\Users\\vince\\Anaconda3\\envs\\datasc\\lib\\site-packages\\sklearn\\linear_model\\sag.py:337: ConvergenceWarning: The max_iter was reached which means the coef_ did not converge\n",
      "  \"the coef_ did not converge\", ConvergenceWarning)\n",
      "C:\\Users\\vince\\Anaconda3\\envs\\datasc\\lib\\site-packages\\sklearn\\linear_model\\sag.py:337: ConvergenceWarning: The max_iter was reached which means the coef_ did not converge\n",
      "  \"the coef_ did not converge\", ConvergenceWarning)\n",
      "C:\\Users\\vince\\Anaconda3\\envs\\datasc\\lib\\site-packages\\sklearn\\linear_model\\sag.py:337: ConvergenceWarning: The max_iter was reached which means the coef_ did not converge\n",
      "  \"the coef_ did not converge\", ConvergenceWarning)\n",
      "C:\\Users\\vince\\Anaconda3\\envs\\datasc\\lib\\site-packages\\sklearn\\linear_model\\sag.py:337: ConvergenceWarning: The max_iter was reached which means the coef_ did not converge\n",
      "  \"the coef_ did not converge\", ConvergenceWarning)\n",
      "C:\\Users\\vince\\Anaconda3\\envs\\datasc\\lib\\site-packages\\sklearn\\linear_model\\sag.py:337: ConvergenceWarning: The max_iter was reached which means the coef_ did not converge\n",
      "  \"the coef_ did not converge\", ConvergenceWarning)\n",
      "C:\\Users\\vince\\Anaconda3\\envs\\datasc\\lib\\site-packages\\sklearn\\linear_model\\sag.py:337: ConvergenceWarning: The max_iter was reached which means the coef_ did not converge\n",
      "  \"the coef_ did not converge\", ConvergenceWarning)\n",
      "C:\\Users\\vince\\Anaconda3\\envs\\datasc\\lib\\site-packages\\sklearn\\linear_model\\sag.py:337: ConvergenceWarning: The max_iter was reached which means the coef_ did not converge\n",
      "  \"the coef_ did not converge\", ConvergenceWarning)\n",
      "C:\\Users\\vince\\Anaconda3\\envs\\datasc\\lib\\site-packages\\sklearn\\linear_model\\sag.py:337: ConvergenceWarning: The max_iter was reached which means the coef_ did not converge\n",
      "  \"the coef_ did not converge\", ConvergenceWarning)\n",
      "C:\\Users\\vince\\Anaconda3\\envs\\datasc\\lib\\site-packages\\sklearn\\linear_model\\sag.py:337: ConvergenceWarning: The max_iter was reached which means the coef_ did not converge\n",
      "  \"the coef_ did not converge\", ConvergenceWarning)\n",
      "C:\\Users\\vince\\Anaconda3\\envs\\datasc\\lib\\site-packages\\sklearn\\linear_model\\sag.py:337: ConvergenceWarning: The max_iter was reached which means the coef_ did not converge\n",
      "  \"the coef_ did not converge\", ConvergenceWarning)\n",
      "C:\\Users\\vince\\Anaconda3\\envs\\datasc\\lib\\site-packages\\sklearn\\linear_model\\sag.py:337: ConvergenceWarning: The max_iter was reached which means the coef_ did not converge\n",
      "  \"the coef_ did not converge\", ConvergenceWarning)\n",
      "C:\\Users\\vince\\Anaconda3\\envs\\datasc\\lib\\site-packages\\sklearn\\linear_model\\sag.py:337: ConvergenceWarning: The max_iter was reached which means the coef_ did not converge\n",
      "  \"the coef_ did not converge\", ConvergenceWarning)\n"
     ]
    },
    {
     "data": {
      "text/plain": [
       "<matplotlib.axes._subplots.AxesSubplot at 0x12cc38b0710>"
      ]
     },
     "execution_count": 311,
     "metadata": {},
     "output_type": "execute_result"
    },
    {
     "data": {
      "image/png": "[encoded data removed]",
      "text/plain": [
       "<Figure size 432x288 with 1 Axes>"
      ]
     },
     "metadata": {
      "needs_background": "light"
     },
     "output_type": "display_data"
    }
   ],
   "source": [
    "# Test against linear regression\n",
    "# Feature selection via SelectKBeset\n",
    "from sklearn.linear_model import LogisticRegression\n",
    "from sklearn.feature_selection import SelectKBest\n",
    "from sklearn.feature_selection import chi2\n",
    "\n",
    "model_evals = []\n",
    "model = LogisticRegression(solver='saga', multi_class='auto',max_iter=1000, n_jobs=3)\n",
    "\n",
    "for k in range(60, 85):#len(X_train.columns.values)):\n",
    "    selector = SelectKBest(chi2, k=k).fit(X_train, y_train)\n",
    "    X_train_new = selector.transform(X_train)\n",
    "    X_val_new = selector.transform(X_val)\n",
    "    \n",
    "    model.fit(X_train_new, y_train)\n",
    "    model_evals.append(model.score(X_val_new, y_val))\n",
    "    \n",
    "model_evals = pd.DataFrame(model_evals, columns=['validation_score'])\n",
    "sns.scatterplot(data=model_evals)"
   ]
  },
  {
   "cell_type": "markdown",
   "metadata": {},
   "source": [
    "**Seeing a 20% regression over previous efforts in logistic regression using this X_train, y_train transformed via pipeline.  More debugging may be necessary to make sure the data transforms are working properly.  Change of scalar type seems to impact logistic regression a lot when outliers present.**"
   ]
  },
  {
   "cell_type": "code",
   "execution_count": 77,
   "metadata": {},
   "outputs": [
    {
     "data": {
      "text/html": [
       "Max Depth 3"
      ],
      "text/plain": [
       "<IPython.core.display.HTML object>"
      ]
     },
     "metadata": {},
     "output_type": "display_data"
    },
    {
     "data": {
      "text/html": [
       "Train Accuracy 0.75"
      ],
      "text/plain": [
       "<IPython.core.display.HTML object>"
      ]
     },
     "metadata": {},
     "output_type": "display_data"
    },
    {
     "data": {
      "text/html": [
       "Validation Accuracy 0.77"
      ],
      "text/plain": [
       "<IPython.core.display.HTML object>"
      ]
     },
     "metadata": {},
     "output_type": "display_data"
    },
    {
     "data": {
      "image/svg+xml": [
       "<?xml version=\"1.0\" encoding=\"UTF-8\" standalone=\"no\"?>\r\n",
       "<!DOCTYPE svg PUBLIC \"-//W3C//DTD SVG 1.1//EN\"\r\n",
       " \"http://www.w3.org/Graphics/SVG/1.1/DTD/svg11.dtd\">\r\n",
       "<!-- Generated by graphviz version 2.38.0 (20140413.2041)\r\n",
       " -->\r\n",
       "<!-- Title: Tree Pages: 1 -->\r\n",
       "<svg width=\"1028pt\" height=\"460pt\"\r\n",
       " viewBox=\"0.00 0.00 1028.00 460.00\" xmlns=\"http://www.w3.org/2000/svg\" xmlns:xlink=\"http://www.w3.org/1999/xlink\">\r\n",
       "<g id=\"graph0\" class=\"graph\" transform=\"scale(1 1) rotate(0) translate(4 456)\">\r\n",
       "<title>Tree</title>\r\n",
       "<polygon fill=\"white\" stroke=\"none\" points=\"-4,4 -4,-456 1024,-456 1024,4 -4,4\"/>\r\n",
       "<!-- 0 -->\r\n",
       "<g id=\"node1\" class=\"node\"><title>0</title>\r\n",
       "<path fill=\"#f7d9c3\" stroke=\"black\" d=\"M741,-452C741,-452 567,-452 567,-452 561,-452 555,-446 555,-440 555,-440 555,-396 555,-396 555,-390 561,-384 567,-384 567,-384 741,-384 741,-384 747,-384 753,-390 753,-396 753,-396 753,-440 753,-440 753,-446 747,-452 741,-452\"/>\r\n",
       "<text text-anchor=\"middle\" x=\"654\" y=\"-436.8\" font-family=\"Helvetica,sans-Serif\" font-size=\"14.00\">quantity_dry &lt;= 0.5</text>\r\n",
       "<text text-anchor=\"middle\" x=\"654\" y=\"-421.8\" font-family=\"Helvetica,sans-Serif\" font-size=\"14.00\">samples = 100.0%</text>\r\n",
       "<text text-anchor=\"middle\" x=\"654\" y=\"-406.8\" font-family=\"Helvetica,sans-Serif\" font-size=\"14.00\">value = [0.561, 0.066, 0.372]</text>\r\n",
       "<text text-anchor=\"middle\" x=\"654\" y=\"-391.8\" font-family=\"Helvetica,sans-Serif\" font-size=\"14.00\">class = functional</text>\r\n",
       "</g>\r\n",
       "<!-- 1 -->\r\n",
       "<g id=\"node2\" class=\"node\"><title>1</title>\r\n",
       "<path fill=\"#f3c5a4\" stroke=\"black\" d=\"M637.5,-348C637.5,-348 460.5,-348 460.5,-348 454.5,-348 448.5,-342 448.5,-336 448.5,-336 448.5,-292 448.5,-292 448.5,-286 454.5,-280 460.5,-280 460.5,-280 637.5,-280 637.5,-280 643.5,-280 649.5,-286 649.5,-292 649.5,-292 649.5,-336 649.5,-336 649.5,-342 643.5,-348 637.5,-348\"/>\r\n",
       "<text text-anchor=\"middle\" x=\"549\" y=\"-332.8\" font-family=\"Helvetica,sans-Serif\" font-size=\"14.00\">waterpoint_type_other &lt;= 0.5</text>\r\n",
       "<text text-anchor=\"middle\" x=\"549\" y=\"-317.8\" font-family=\"Helvetica,sans-Serif\" font-size=\"14.00\">samples = 89.6%</text>\r\n",
       "<text text-anchor=\"middle\" x=\"549\" y=\"-302.8\" font-family=\"Helvetica,sans-Serif\" font-size=\"14.00\">value = [0.623, 0.074, 0.303]</text>\r\n",
       "<text text-anchor=\"middle\" x=\"549\" y=\"-287.8\" font-family=\"Helvetica,sans-Serif\" font-size=\"14.00\">class = functional</text>\r\n",
       "</g>\r\n",
       "<!-- 0&#45;&gt;1 -->\r\n",
       "<g id=\"edge1\" class=\"edge\"><title>0&#45;&gt;1</title>\r\n",
       "<path fill=\"none\" stroke=\"black\" d=\"M619.91,-383.884C610.557,-374.798 600.312,-364.845 590.589,-355.4\"/>\r\n",
       "<polygon fill=\"black\" stroke=\"black\" points=\"592.89,-352.757 583.279,-348.299 588.013,-357.778 592.89,-352.757\"/>\r\n",
       "<text text-anchor=\"middle\" x=\"583.641\" y=\"-369.597\" font-family=\"Helvetica,sans-Serif\" font-size=\"14.00\">True</text>\r\n",
       "</g>\r\n",
       "<!-- 44 -->\r\n",
       "<g id=\"node13\" class=\"node\"><title>44</title>\r\n",
       "<path fill=\"#843ee6\" stroke=\"black\" d=\"M838,-348C838,-348 680,-348 680,-348 674,-348 668,-342 668,-336 668,-336 668,-292 668,-292 668,-286 674,-280 680,-280 680,-280 838,-280 838,-280 844,-280 850,-286 850,-292 850,-292 850,-336 850,-336 850,-342 844,-348 838,-348\"/>\r\n",
       "<text text-anchor=\"middle\" x=\"759\" y=\"-332.8\" font-family=\"Helvetica,sans-Serif\" font-size=\"14.00\">id &lt;= 25138.5</text>\r\n",
       "<text text-anchor=\"middle\" x=\"759\" y=\"-317.8\" font-family=\"Helvetica,sans-Serif\" font-size=\"14.00\">samples = 10.4%</text>\r\n",
       "<text text-anchor=\"middle\" x=\"759\" y=\"-302.8\" font-family=\"Helvetica,sans-Serif\" font-size=\"14.00\">value = [0.024, 0.0, 0.976]</text>\r\n",
       "<text text-anchor=\"middle\" x=\"759\" y=\"-287.8\" font-family=\"Helvetica,sans-Serif\" font-size=\"14.00\">class = non functional</text>\r\n",
       "</g>\r\n",
       "<!-- 0&#45;&gt;44 -->\r\n",
       "<g id=\"edge12\" class=\"edge\"><title>0&#45;&gt;44</title>\r\n",
       "<path fill=\"none\" stroke=\"black\" d=\"M688.09,-383.884C697.443,-374.798 707.688,-364.845 717.411,-355.4\"/>\r\n",
       "<polygon fill=\"black\" stroke=\"black\" points=\"719.987,-357.778 724.721,-348.299 715.11,-352.757 719.987,-357.778\"/>\r\n",
       "<text text-anchor=\"middle\" x=\"724.359\" y=\"-369.597\" font-family=\"Helvetica,sans-Serif\" font-size=\"14.00\">False</text>\r\n",
       "</g>\r\n",
       "<!-- 2 -->\r\n",
       "<g id=\"node3\" class=\"node\"><title>2</title>\r\n",
       "<path fill=\"#f1bb94\" stroke=\"black\" d=\"M420.5,-244C420.5,-244 177.5,-244 177.5,-244 171.5,-244 165.5,-238 165.5,-232 165.5,-232 165.5,-188 165.5,-188 165.5,-182 171.5,-176 177.5,-176 177.5,-176 420.5,-176 420.5,-176 426.5,-176 432.5,-182 432.5,-188 432.5,-188 432.5,-232 432.5,-232 432.5,-238 426.5,-244 420.5,-244\"/>\r\n",
       "<text text-anchor=\"middle\" x=\"299\" y=\"-228.8\" font-family=\"Helvetica,sans-Serif\" font-size=\"14.00\">funder_Government Of Tanzania &lt;= 0.5</text>\r\n",
       "<text text-anchor=\"middle\" x=\"299\" y=\"-213.8\" font-family=\"Helvetica,sans-Serif\" font-size=\"14.00\">samples = 82.4%</text>\r\n",
       "<text text-anchor=\"middle\" x=\"299\" y=\"-198.8\" font-family=\"Helvetica,sans-Serif\" font-size=\"14.00\">value = [0.66, 0.077, 0.263]</text>\r\n",
       "<text text-anchor=\"middle\" x=\"299\" y=\"-183.8\" font-family=\"Helvetica,sans-Serif\" font-size=\"14.00\">class = functional</text>\r\n",
       "</g>\r\n",
       "<!-- 1&#45;&gt;2 -->\r\n",
       "<g id=\"edge2\" class=\"edge\"><title>1&#45;&gt;2</title>\r\n",
       "<path fill=\"none\" stroke=\"black\" d=\"M467.832,-279.884C442.817,-269.677 415.12,-258.377 389.517,-247.931\"/>\r\n",
       "<polygon fill=\"black\" stroke=\"black\" points=\"390.769,-244.662 380.188,-244.125 388.125,-251.143 390.769,-244.662\"/>\r\n",
       "</g>\r\n",
       "<!-- 41 -->\r\n",
       "<g id=\"node10\" class=\"node\"><title>41</title>\r\n",
       "<path fill=\"#a775ed\" stroke=\"black\" d=\"M637,-244C637,-244 463,-244 463,-244 457,-244 451,-238 451,-232 451,-232 451,-188 451,-188 451,-182 457,-176 463,-176 463,-176 637,-176 637,-176 643,-176 649,-182 649,-188 649,-188 649,-232 649,-232 649,-238 643,-244 637,-244\"/>\r\n",
       "<text text-anchor=\"middle\" x=\"550\" y=\"-228.8\" font-family=\"Helvetica,sans-Serif\" font-size=\"14.00\">installer_other &lt;= 0.5</text>\r\n",
       "<text text-anchor=\"middle\" x=\"550\" y=\"-213.8\" font-family=\"Helvetica,sans-Serif\" font-size=\"14.00\">samples = 7.2%</text>\r\n",
       "<text text-anchor=\"middle\" x=\"550\" y=\"-198.8\" font-family=\"Helvetica,sans-Serif\" font-size=\"14.00\">value = [0.207, 0.034, 0.759]</text>\r\n",
       "<text text-anchor=\"middle\" x=\"550\" y=\"-183.8\" font-family=\"Helvetica,sans-Serif\" font-size=\"14.00\">class = non functional</text>\r\n",
       "</g>\r\n",
       "<!-- 1&#45;&gt;41 -->\r\n",
       "<g id=\"edge9\" class=\"edge\"><title>1&#45;&gt;41</title>\r\n",
       "<path fill=\"none\" stroke=\"black\" d=\"M549.325,-279.884C549.404,-271.778 549.49,-262.982 549.574,-254.472\"/>\r\n",
       "<polygon fill=\"black\" stroke=\"black\" points=\"553.075,-254.333 549.674,-244.299 546.076,-254.265 553.075,-254.333\"/>\r\n",
       "</g>\r\n",
       "<!-- 3 -->\r\n",
       "<g id=\"node4\" class=\"node\"><title>3</title>\r\n",
       "<path fill=\"#efb184\" stroke=\"black\" d=\"M186,-140C186,-140 12,-140 12,-140 6,-140 0,-134 0,-128 0,-128 0,-84 0,-84 0,-78 6,-72 12,-72 12,-72 186,-72 186,-72 192,-72 198,-78 198,-84 198,-84 198,-128 198,-128 198,-134 192,-140 186,-140\"/>\r\n",
       "<text text-anchor=\"middle\" x=\"99\" y=\"-124.8\" font-family=\"Helvetica,sans-Serif\" font-size=\"14.00\">amount_tsh &lt;= 2.5</text>\r\n",
       "<text text-anchor=\"middle\" x=\"99\" y=\"-109.8\" font-family=\"Helvetica,sans-Serif\" font-size=\"14.00\">samples = 69.8%</text>\r\n",
       "<text text-anchor=\"middle\" x=\"99\" y=\"-94.8\" font-family=\"Helvetica,sans-Serif\" font-size=\"14.00\">value = [0.703, 0.084, 0.213]</text>\r\n",
       "<text text-anchor=\"middle\" x=\"99\" y=\"-79.8\" font-family=\"Helvetica,sans-Serif\" font-size=\"14.00\">class = functional</text>\r\n",
       "</g>\r\n",
       "<!-- 2&#45;&gt;3 -->\r\n",
       "<g id=\"edge3\" class=\"edge\"><title>2&#45;&gt;3</title>\r\n",
       "<path fill=\"none\" stroke=\"black\" d=\"M234.066,-175.884C214.58,-165.946 193.061,-154.971 173.034,-144.757\"/>\r\n",
       "<polygon fill=\"black\" stroke=\"black\" points=\"174.449,-141.55 163.95,-140.125 171.269,-147.786 174.449,-141.55\"/>\r\n",
       "</g>\r\n",
       "<!-- 36 -->\r\n",
       "<g id=\"node7\" class=\"node\"><title>36</title>\r\n",
       "<path fill=\"#e7d9fa\" stroke=\"black\" d=\"M394,-140C394,-140 228,-140 228,-140 222,-140 216,-134 216,-128 216,-128 216,-84 216,-84 216,-78 222,-72 228,-72 228,-72 394,-72 394,-72 400,-72 406,-78 406,-84 406,-84 406,-128 406,-128 406,-134 400,-140 394,-140\"/>\r\n",
       "<text text-anchor=\"middle\" x=\"311\" y=\"-124.8\" font-family=\"Helvetica,sans-Serif\" font-size=\"14.00\">rel_age &lt;= 17.5</text>\r\n",
       "<text text-anchor=\"middle\" x=\"311\" y=\"-109.8\" font-family=\"Helvetica,sans-Serif\" font-size=\"14.00\">samples = 12.6%</text>\r\n",
       "<text text-anchor=\"middle\" x=\"311\" y=\"-94.8\" font-family=\"Helvetica,sans-Serif\" font-size=\"14.00\">value = [0.426, 0.04, 0.535]</text>\r\n",
       "<text text-anchor=\"middle\" x=\"311\" y=\"-79.8\" font-family=\"Helvetica,sans-Serif\" font-size=\"14.00\">class = non functional</text>\r\n",
       "</g>\r\n",
       "<!-- 2&#45;&gt;36 -->\r\n",
       "<g id=\"edge6\" class=\"edge\"><title>2&#45;&gt;36</title>\r\n",
       "<path fill=\"none\" stroke=\"black\" d=\"M302.896,-175.884C303.85,-167.778 304.884,-158.982 305.886,-150.472\"/>\r\n",
       "<polygon fill=\"black\" stroke=\"black\" points=\"309.39,-150.64 307.082,-140.299 302.438,-149.822 309.39,-150.64\"/>\r\n",
       "</g>\r\n",
       "<!-- 4 -->\r\n",
       "<g id=\"node5\" class=\"node\"><title>4</title>\r\n",
       "<path fill=\"#c0c0c0\" stroke=\"black\" d=\"M112,-36C112,-36 82,-36 82,-36 76,-36 70,-30 70,-24 70,-24 70,-12 70,-12 70,-6 76,-0 82,-0 82,-0 112,-0 112,-0 118,-0 124,-6 124,-12 124,-12 124,-24 124,-24 124,-30 118,-36 112,-36\"/>\r\n",
       "<text text-anchor=\"middle\" x=\"97\" y=\"-14.3\" font-family=\"Helvetica,sans-Serif\" font-size=\"14.00\">(...)</text>\r\n",
       "</g>\r\n",
       "<!-- 3&#45;&gt;4 -->\r\n",
       "<g id=\"edge4\" class=\"edge\"><title>3&#45;&gt;4</title>\r\n",
       "<path fill=\"none\" stroke=\"black\" d=\"M98.2325,-71.9961C98.0364,-63.5646 97.8277,-54.5902 97.6388,-46.4696\"/>\r\n",
       "<polygon fill=\"black\" stroke=\"black\" points=\"101.136,-46.3193 97.4047,-36.4034 94.1383,-46.4821 101.136,-46.3193\"/>\r\n",
       "</g>\r\n",
       "<!-- 27 -->\r\n",
       "<g id=\"node6\" class=\"node\"><title>27</title>\r\n",
       "<path fill=\"#c0c0c0\" stroke=\"black\" d=\"M184,-36C184,-36 154,-36 154,-36 148,-36 142,-30 142,-24 142,-24 142,-12 142,-12 142,-6 148,-0 154,-0 154,-0 184,-0 184,-0 190,-0 196,-6 196,-12 196,-12 196,-24 196,-24 196,-30 190,-36 184,-36\"/>\r\n",
       "<text text-anchor=\"middle\" x=\"169\" y=\"-14.3\" font-family=\"Helvetica,sans-Serif\" font-size=\"14.00\">(...)</text>\r\n",
       "</g>\r\n",
       "<!-- 3&#45;&gt;27 -->\r\n",
       "<g id=\"edge5\" class=\"edge\"><title>3&#45;&gt;27</title>\r\n",
       "<path fill=\"none\" stroke=\"black\" d=\"M125.864,-71.9961C133.343,-62.8067 141.348,-52.9725 148.406,-44.3014\"/>\r\n",
       "<polygon fill=\"black\" stroke=\"black\" points=\"151.236,-46.3685 154.834,-36.4034 145.807,-41.9496 151.236,-46.3685\"/>\r\n",
       "</g>\r\n",
       "<!-- 37 -->\r\n",
       "<g id=\"node8\" class=\"node\"><title>37</title>\r\n",
       "<path fill=\"#c0c0c0\" stroke=\"black\" d=\"M291,-36C291,-36 261,-36 261,-36 255,-36 249,-30 249,-24 249,-24 249,-12 249,-12 249,-6 255,-0 261,-0 261,-0 291,-0 291,-0 297,-0 303,-6 303,-12 303,-12 303,-24 303,-24 303,-30 297,-36 291,-36\"/>\r\n",
       "<text text-anchor=\"middle\" x=\"276\" y=\"-14.3\" font-family=\"Helvetica,sans-Serif\" font-size=\"14.00\">(...)</text>\r\n",
       "</g>\r\n",
       "<!-- 36&#45;&gt;37 -->\r\n",
       "<g id=\"edge7\" class=\"edge\"><title>36&#45;&gt;37</title>\r\n",
       "<path fill=\"none\" stroke=\"black\" d=\"M297.568,-71.9961C294.06,-63.3751 290.32,-54.1866 286.957,-45.9234\"/>\r\n",
       "<polygon fill=\"black\" stroke=\"black\" points=\"290.094,-44.3463 283.083,-36.4034 283.611,-46.9851 290.094,-44.3463\"/>\r\n",
       "</g>\r\n",
       "<!-- 38 -->\r\n",
       "<g id=\"node9\" class=\"node\"><title>38</title>\r\n",
       "<path fill=\"#c0c0c0\" stroke=\"black\" d=\"M363,-36C363,-36 333,-36 333,-36 327,-36 321,-30 321,-24 321,-24 321,-12 321,-12 321,-6 327,-0 333,-0 333,-0 363,-0 363,-0 369,-0 375,-6 375,-12 375,-12 375,-24 375,-24 375,-30 369,-36 363,-36\"/>\r\n",
       "<text text-anchor=\"middle\" x=\"348\" y=\"-14.3\" font-family=\"Helvetica,sans-Serif\" font-size=\"14.00\">(...)</text>\r\n",
       "</g>\r\n",
       "<!-- 36&#45;&gt;38 -->\r\n",
       "<g id=\"edge8\" class=\"edge\"><title>36&#45;&gt;38</title>\r\n",
       "<path fill=\"none\" stroke=\"black\" d=\"M325.199,-71.9961C328.949,-63.2804 332.948,-53.9846 336.534,-45.6514\"/>\r\n",
       "<polygon fill=\"black\" stroke=\"black\" points=\"339.775,-46.9726 340.512,-36.4034 333.345,-44.2061 339.775,-46.9726\"/>\r\n",
       "</g>\r\n",
       "<!-- 42 -->\r\n",
       "<g id=\"node11\" class=\"node\"><title>42</title>\r\n",
       "<path fill=\"#9152e8\" stroke=\"black\" d=\"M606,-132.5C606,-132.5 448,-132.5 448,-132.5 442,-132.5 436,-126.5 436,-120.5 436,-120.5 436,-91.5 436,-91.5 436,-85.5 442,-79.5 448,-79.5 448,-79.5 606,-79.5 606,-79.5 612,-79.5 618,-85.5 618,-91.5 618,-91.5 618,-120.5 618,-120.5 618,-126.5 612,-132.5 606,-132.5\"/>\r\n",
       "<text text-anchor=\"middle\" x=\"527\" y=\"-117.3\" font-family=\"Helvetica,sans-Serif\" font-size=\"14.00\">samples = 3.4%</text>\r\n",
       "<text text-anchor=\"middle\" x=\"527\" y=\"-102.3\" font-family=\"Helvetica,sans-Serif\" font-size=\"14.00\">value = [0.111, 0.0, 0.889]</text>\r\n",
       "<text text-anchor=\"middle\" x=\"527\" y=\"-87.3\" font-family=\"Helvetica,sans-Serif\" font-size=\"14.00\">class = non functional</text>\r\n",
       "</g>\r\n",
       "<!-- 41&#45;&gt;42 -->\r\n",
       "<g id=\"edge10\" class=\"edge\"><title>41&#45;&gt;42</title>\r\n",
       "<path fill=\"none\" stroke=\"black\" d=\"M542.533,-175.884C540.127,-165.216 537.452,-153.352 535.009,-142.519\"/>\r\n",
       "<polygon fill=\"black\" stroke=\"black\" points=\"538.369,-141.505 532.754,-132.52 531.54,-143.045 538.369,-141.505\"/>\r\n",
       "</g>\r\n",
       "<!-- 43 -->\r\n",
       "<g id=\"node12\" class=\"node\"><title>43</title>\r\n",
       "<path fill=\"#c09cf2\" stroke=\"black\" d=\"M814,-132.5C814,-132.5 648,-132.5 648,-132.5 642,-132.5 636,-126.5 636,-120.5 636,-120.5 636,-91.5 636,-91.5 636,-85.5 642,-79.5 648,-79.5 648,-79.5 814,-79.5 814,-79.5 820,-79.5 826,-85.5 826,-91.5 826,-91.5 826,-120.5 826,-120.5 826,-126.5 820,-132.5 814,-132.5\"/>\r\n",
       "<text text-anchor=\"middle\" x=\"731\" y=\"-117.3\" font-family=\"Helvetica,sans-Serif\" font-size=\"14.00\">samples = 3.9%</text>\r\n",
       "<text text-anchor=\"middle\" x=\"731\" y=\"-102.3\" font-family=\"Helvetica,sans-Serif\" font-size=\"14.00\">value = [0.29, 0.065, 0.645]</text>\r\n",
       "<text text-anchor=\"middle\" x=\"731\" y=\"-87.3\" font-family=\"Helvetica,sans-Serif\" font-size=\"14.00\">class = non functional</text>\r\n",
       "</g>\r\n",
       "<!-- 41&#45;&gt;43 -->\r\n",
       "<g id=\"edge11\" class=\"edge\"><title>41&#45;&gt;43</title>\r\n",
       "<path fill=\"none\" stroke=\"black\" d=\"M608.766,-175.884C630.623,-163.566 655.309,-149.655 676.745,-137.575\"/>\r\n",
       "<polygon fill=\"black\" stroke=\"black\" points=\"678.721,-140.479 685.715,-132.52 675.284,-134.38 678.721,-140.479\"/>\r\n",
       "</g>\r\n",
       "<!-- 45 -->\r\n",
       "<g id=\"node14\" class=\"node\"><title>45</title>\r\n",
       "<path fill=\"#8845e7\" stroke=\"black\" d=\"M838,-236.5C838,-236.5 680,-236.5 680,-236.5 674,-236.5 668,-230.5 668,-224.5 668,-224.5 668,-195.5 668,-195.5 668,-189.5 674,-183.5 680,-183.5 680,-183.5 838,-183.5 838,-183.5 844,-183.5 850,-189.5 850,-195.5 850,-195.5 850,-224.5 850,-224.5 850,-230.5 844,-236.5 838,-236.5\"/>\r\n",
       "<text text-anchor=\"middle\" x=\"759\" y=\"-221.3\" font-family=\"Helvetica,sans-Serif\" font-size=\"14.00\">samples = 4.5%</text>\r\n",
       "<text text-anchor=\"middle\" x=\"759\" y=\"-206.3\" font-family=\"Helvetica,sans-Serif\" font-size=\"14.00\">value = [0.056, 0.0, 0.944]</text>\r\n",
       "<text text-anchor=\"middle\" x=\"759\" y=\"-191.3\" font-family=\"Helvetica,sans-Serif\" font-size=\"14.00\">class = non functional</text>\r\n",
       "</g>\r\n",
       "<!-- 44&#45;&gt;45 -->\r\n",
       "<g id=\"edge13\" class=\"edge\"><title>44&#45;&gt;45</title>\r\n",
       "<path fill=\"none\" stroke=\"black\" d=\"M759,-279.884C759,-269.326 759,-257.597 759,-246.854\"/>\r\n",
       "<polygon fill=\"black\" stroke=\"black\" points=\"762.5,-246.52 759,-236.52 755.5,-246.52 762.5,-246.52\"/>\r\n",
       "</g>\r\n",
       "<!-- 46 -->\r\n",
       "<g id=\"node15\" class=\"node\"><title>46</title>\r\n",
       "<path fill=\"#8139e5\" stroke=\"black\" d=\"M1008,-236.5C1008,-236.5 880,-236.5 880,-236.5 874,-236.5 868,-230.5 868,-224.5 868,-224.5 868,-195.5 868,-195.5 868,-189.5 874,-183.5 880,-183.5 880,-183.5 1008,-183.5 1008,-183.5 1014,-183.5 1020,-189.5 1020,-195.5 1020,-195.5 1020,-224.5 1020,-224.5 1020,-230.5 1014,-236.5 1008,-236.5\"/>\r\n",
       "<text text-anchor=\"middle\" x=\"944\" y=\"-221.3\" font-family=\"Helvetica,sans-Serif\" font-size=\"14.00\">samples = 5.9%</text>\r\n",
       "<text text-anchor=\"middle\" x=\"944\" y=\"-206.3\" font-family=\"Helvetica,sans-Serif\" font-size=\"14.00\">value = [0.0, 0.0, 1.0]</text>\r\n",
       "<text text-anchor=\"middle\" x=\"944\" y=\"-191.3\" font-family=\"Helvetica,sans-Serif\" font-size=\"14.00\">class = non functional</text>\r\n",
       "</g>\r\n",
       "<!-- 44&#45;&gt;46 -->\r\n",
       "<g id=\"edge14\" class=\"edge\"><title>44&#45;&gt;46</title>\r\n",
       "<path fill=\"none\" stroke=\"black\" d=\"M819.064,-279.884C841.505,-267.511 866.861,-253.53 888.839,-241.413\"/>\r\n",
       "<polygon fill=\"black\" stroke=\"black\" points=\"890.647,-244.413 897.714,-236.52 887.267,-238.283 890.647,-244.413\"/>\r\n",
       "</g>\r\n",
       "</g>\r\n",
       "</svg>\r\n"
      ],
      "text/plain": [
       "<graphviz.files.Source at 0x12cbb632898>"
      ]
     },
     "metadata": {},
     "output_type": "display_data"
    }
   ],
   "source": [
    "# Plot feature importance (decision-tree)\n",
    "from IPython.display import display, HTML\n",
    "import graphviz\n",
    "from sklearn.tree import export_graphviz\n",
    "\n",
    "max_depth = 3\n",
    "\n",
    "display(HTML(f'Max Depth {max_depth}'))\n",
    "display(HTML(f'Train Accuracy {pipeline.score(X_train, y_train):.2f}'))\n",
    "display(HTML(f'Validation Accuracy {pipeline.score(X_val, y_val):.2f}'))\n",
    "\n",
    "# Plot tree\n",
    "# https://scikit-learn.org/stable/modules/generated/sklearn.tree.export_graphviz.html\n",
    "import os, sys\n",
    "in_colab = 'google.colab' in sys.modules\n",
    "if not in_colab:\n",
    "    os.environ[\"PATH\"] += os.pathsep + 'C:/Program Files (x86)/Graphviz2.38/bin/'\n",
    "\n",
    "dot_data = export_graphviz(pipeline.named_steps['decisiontreeclassifier'], \n",
    "                           out_file=None, \n",
    "                           max_depth=3, \n",
    "                           feature_names=X_train.columns,\n",
    "                           class_names=pipeline.classes_, \n",
    "                           impurity=False, \n",
    "                           filled=True, \n",
    "                           proportion=True, \n",
    "                           rounded=True)   \n",
    "display(graphviz.Source(dot_data))"
   ]
  },
  {
   "cell_type": "code",
   "execution_count": null,
   "metadata": {},
   "outputs": [],
   "source": [
    "# Write submission csv file\n",
    "submission = sample_submission.copy()\n",
    "submission['status_group'] = y_pred\n",
    "submission.to_csv('submission-02.csv', index=False)"
   ]
  }
 ],
 "metadata": {
  "colab": {
   "collapsed_sections": [],
   "name": "assignment_kaggle_challenge_1.ipynb",
   "provenance": [],
   "version": "0.3.2"
  },
  "kernelspec": {
   "display_name": "Python 3",
   "language": "python",
   "name": "python3"
  },
  "language_info": {
   "codemirror_mode": {
    "name": "ipython",
    "version": 3
   },
   "file_extension": ".py",
   "mimetype": "text/x-python",
   "name": "python",
   "nbconvert_exporter": "python",
   "pygments_lexer": "ipython3",
   "version": "3.7.3"
  }
 },
 "nbformat": 4,
 "nbformat_minor": 4
}
